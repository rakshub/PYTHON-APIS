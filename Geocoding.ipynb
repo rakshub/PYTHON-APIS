{
  "nbformat": 4,
  "nbformat_minor": 0,
  "metadata": {
    "colab": {
      "provenance": [],
      "authorship_tag": "ABX9TyPyXU72mZAifgB2VV/9xF6l",
      "include_colab_link": true
    },
    "kernelspec": {
      "name": "python3",
      "display_name": "Python 3"
    },
    "language_info": {
      "name": "python"
    }
  },
  "cells": [
    {
      "cell_type": "markdown",
      "metadata": {
        "id": "view-in-github",
        "colab_type": "text"
      },
      "source": [
        "<a href=\"https://colab.research.google.com/github/rakshub/PYTHON-APIS/blob/main/Geocoding.ipynb\" target=\"_parent\"><img src=\"https://colab.research.google.com/assets/colab-badge.svg\" alt=\"Open In Colab\"/></a>"
      ]
    },
    {
      "cell_type": "markdown",
      "source": [
        "\n",
        "\n",
        "# API of Open Street Maps using Nominatim\n"
      ],
      "metadata": {
        "id": "fSlCgaicFN6s"
      }
    },
    {
      "cell_type": "code",
      "execution_count": 1,
      "metadata": {
        "id": "jq55cU3-FATP"
      },
      "outputs": [],
      "source": [
        "from geopy.geocoders import Nominatim"
      ]
    },
    {
      "cell_type": "code",
      "source": [
        "locator=Nominatim(user_agent=\"mygeocoders\")\n",
        "location=locator.geocode(\"The Great Wall Of China\")"
      ],
      "metadata": {
        "id": "9SS69twGFhVN"
      },
      "execution_count": 5,
      "outputs": []
    },
    {
      "cell_type": "code",
      "source": [
        "print(\"Longitude={},Latitude={}\".format(location.longitude,location.latitude))"
      ],
      "metadata": {
        "colab": {
          "base_uri": "https://localhost:8080/"
        },
        "id": "s0aOCOD4GEjW",
        "outputId": "6d8cb2fa-f286-4a37-abfd-a1c15411bb9d"
      },
      "execution_count": 6,
      "outputs": [
        {
          "output_type": "stream",
          "name": "stdout",
          "text": [
            "Longitude=-80.847423,Latitude=35.0856151\n"
          ]
        }
      ]
    },
    {
      "cell_type": "code",
      "source": [
        "location.address"
      ],
      "metadata": {
        "colab": {
          "base_uri": "https://localhost:8080/",
          "height": 35
        },
        "id": "96EUZ68lGjqz",
        "outputId": "a3040329-7c02-48e2-f22d-5f6636fa13af"
      },
      "execution_count": 7,
      "outputs": [
        {
          "output_type": "execute_result",
          "data": {
            "text/plain": [
              "'Great Wall of China, Carmel Road, Carmel Commons Shopping Center, Carmel, Charlotte, Mecklenburg County, North Carolina, 28226, United States'"
            ],
            "application/vnd.google.colaboratory.intrinsic+json": {
              "type": "string"
            }
          },
          "metadata": {},
          "execution_count": 7
        }
      ]
    },
    {
      "cell_type": "code",
      "source": [
        "loaction.raw,location.altitude"
      ],
      "metadata": {
        "colab": {
          "base_uri": "https://localhost:8080/"
        },
        "id": "-c5ITP_zGvHz",
        "outputId": "b0f176aa-6b3e-4445-af11-d2cc62e891d1"
      },
      "execution_count": 8,
      "outputs": [
        {
          "output_type": "execute_result",
          "data": {
            "text/plain": [
              "({'place_id': 41304656,\n",
              "  'licence': 'Data © OpenStreetMap contributors, ODbL 1.0. https://osm.org/copyright',\n",
              "  'osm_type': 'node',\n",
              "  'osm_id': 3313321893,\n",
              "  'boundingbox': ['35.0855651', '35.0856651', '-80.847473', '-80.847373'],\n",
              "  'lat': '35.0856151',\n",
              "  'lon': '-80.847423',\n",
              "  'display_name': 'Great Wall of China, Carmel Road, Carmel Commons Shopping Center, Carmel, Charlotte, Mecklenburg County, North Carolina, 28226, United States',\n",
              "  'class': 'amenity',\n",
              "  'type': 'restaurant',\n",
              "  'importance': 0.4001,\n",
              "  'icon': 'https://nominatim.openstreetmap.org/ui/mapicons/food_restaurant.p.20.png'},\n",
              " 0.0)"
            ]
          },
          "metadata": {},
          "execution_count": 8
        }
      ]
    },
    {
      "cell_type": "code",
      "source": [
        "location2=locator.geocode(\"Statue of Unity\")\n"
      ],
      "metadata": {
        "id": "lkK2nYRMG7Cu"
      },
      "execution_count": 9,
      "outputs": []
    },
    {
      "cell_type": "code",
      "source": [
        "location.address,location.raw,location.altitude"
      ],
      "metadata": {
        "colab": {
          "base_uri": "https://localhost:8080/"
        },
        "id": "ilYIhs9YHGh9",
        "outputId": "23889167-cf8d-440e-d65e-96e974698b55"
      },
      "execution_count": 11,
      "outputs": [
        {
          "output_type": "execute_result",
          "data": {
            "text/plain": [
              "('Great Wall of China, Carmel Road, Carmel Commons Shopping Center, Carmel, Charlotte, Mecklenburg County, North Carolina, 28226, United States',\n",
              " {'place_id': 41304656,\n",
              "  'licence': 'Data © OpenStreetMap contributors, ODbL 1.0. https://osm.org/copyright',\n",
              "  'osm_type': 'node',\n",
              "  'osm_id': 3313321893,\n",
              "  'boundingbox': ['35.0855651', '35.0856651', '-80.847473', '-80.847373'],\n",
              "  'lat': '35.0856151',\n",
              "  'lon': '-80.847423',\n",
              "  'display_name': 'Great Wall of China, Carmel Road, Carmel Commons Shopping Center, Carmel, Charlotte, Mecklenburg County, North Carolina, 28226, United States',\n",
              "  'class': 'amenity',\n",
              "  'type': 'restaurant',\n",
              "  'importance': 0.4001,\n",
              "  'icon': 'https://nominatim.openstreetmap.org/ui/mapicons/food_restaurant.p.20.png'},\n",
              " 0.0)"
            ]
          },
          "metadata": {},
          "execution_count": 11
        }
      ]
    },
    {
      "cell_type": "code",
      "source": [
        "print(\"Latitude={},Longitude={}\".format(location.latitude,location.longitude))"
      ],
      "metadata": {
        "colab": {
          "base_uri": "https://localhost:8080/"
        },
        "id": "D-6XrTiSHNZL",
        "outputId": "74fe54b9-e761-4f10-83be-4b0146264bda"
      },
      "execution_count": 12,
      "outputs": [
        {
          "output_type": "stream",
          "name": "stdout",
          "text": [
            "Latitude=35.0856151,Longitude=-80.847423\n"
          ]
        }
      ]
    }
  ]
}