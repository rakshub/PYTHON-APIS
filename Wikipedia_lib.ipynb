{
  "nbformat": 4,
  "nbformat_minor": 0,
  "metadata": {
    "colab": {
      "provenance": [],
      "authorship_tag": "ABX9TyOQ+jVoUuXEsrPMORZJhMbg",
      "include_colab_link": true
    },
    "kernelspec": {
      "name": "python3",
      "display_name": "Python 3"
    },
    "language_info": {
      "name": "python"
    }
  },
  "cells": [
    {
      "cell_type": "markdown",
      "metadata": {
        "id": "view-in-github",
        "colab_type": "text"
      },
      "source": [
        "<a href=\"https://colab.research.google.com/github/rakshub/PYTHON-APIS/blob/main/Wikipedia_lib.ipynb\" target=\"_parent\"><img src=\"https://colab.research.google.com/assets/colab-badge.svg\" alt=\"Open In Colab\"/></a>"
      ]
    },
    {
      "cell_type": "markdown",
      "source": [
        "# WIKIPEDIA_LIBRARY"
      ],
      "metadata": {
        "id": "SHOGeygzKfVf"
      }
    },
    {
      "cell_type": "code",
      "execution_count": 1,
      "metadata": {
        "colab": {
          "base_uri": "https://localhost:8080/"
        },
        "id": "MaCBLmmPKeUY",
        "outputId": "fdd97f68-35b4-4b30-d43e-a88a193cd721"
      },
      "outputs": [
        {
          "output_type": "stream",
          "name": "stdout",
          "text": [
            "Looking in indexes: https://pypi.org/simple, https://us-python.pkg.dev/colab-wheels/public/simple/\n",
            "Collecting wikipedia\n",
            "  Downloading wikipedia-1.4.0.tar.gz (27 kB)\n",
            "Requirement already satisfied: beautifulsoup4 in /usr/local/lib/python3.7/dist-packages (from wikipedia) (4.6.3)\n",
            "Requirement already satisfied: requests<3.0.0,>=2.0.0 in /usr/local/lib/python3.7/dist-packages (from wikipedia) (2.23.0)\n",
            "Requirement already satisfied: chardet<4,>=3.0.2 in /usr/local/lib/python3.7/dist-packages (from requests<3.0.0,>=2.0.0->wikipedia) (3.0.4)\n",
            "Requirement already satisfied: idna<3,>=2.5 in /usr/local/lib/python3.7/dist-packages (from requests<3.0.0,>=2.0.0->wikipedia) (2.10)\n",
            "Requirement already satisfied: urllib3!=1.25.0,!=1.25.1,<1.26,>=1.21.1 in /usr/local/lib/python3.7/dist-packages (from requests<3.0.0,>=2.0.0->wikipedia) (1.24.3)\n",
            "Requirement already satisfied: certifi>=2017.4.17 in /usr/local/lib/python3.7/dist-packages (from requests<3.0.0,>=2.0.0->wikipedia) (2022.9.24)\n",
            "Building wheels for collected packages: wikipedia\n",
            "  Building wheel for wikipedia (setup.py) ... \u001b[?25l\u001b[?25hdone\n",
            "  Created wheel for wikipedia: filename=wikipedia-1.4.0-py3-none-any.whl size=11695 sha256=89cd6ab87f05962951393bcda21f5b4fccd50ed4d8674fbc5f408c95869d7859\n",
            "  Stored in directory: /root/.cache/pip/wheels/15/93/6d/5b2c68b8a64c7a7a04947b4ed6d89fb557dcc6bc27d1d7f3ba\n",
            "Successfully built wikipedia\n",
            "Installing collected packages: wikipedia\n",
            "Successfully installed wikipedia-1.4.0\n"
          ]
        }
      ],
      "source": [
        "!pip install wikipedia\n",
        "import wikipedia as wk"
      ]
    },
    {
      "cell_type": "code",
      "source": [
        "wk.search(\"Robots\")"
      ],
      "metadata": {
        "colab": {
          "base_uri": "https://localhost:8080/"
        },
        "id": "v7rrQKN5Kvd9",
        "outputId": "856f1f58-7cb2-4c5c-ddc6-a9017ed05f02"
      },
      "execution_count": 2,
      "outputs": [
        {
          "output_type": "execute_result",
          "data": {
            "text/plain": [
              "['Robot',\n",
              " 'Robotics',\n",
              " 'Love, Death & Robots',\n",
              " 'Robots (2005 film)',\n",
              " 'Robots exclusion standard',\n",
              " 'Three Laws of Robotics',\n",
              " 'The Robots',\n",
              " 'Robot series',\n",
              " 'Industrial robot',\n",
              " 'Sex robot']"
            ]
          },
          "metadata": {},
          "execution_count": 2
        }
      ]
    },
    {
      "cell_type": "code",
      "source": [
        "wk.search(\"Robots\",results=2)"
      ],
      "metadata": {
        "colab": {
          "base_uri": "https://localhost:8080/"
        },
        "id": "qhmR_MlLK5CV",
        "outputId": "dc2198b4-f7c7-41eb-c856-fdb04b6fbc34"
      },
      "execution_count": 3,
      "outputs": [
        {
          "output_type": "execute_result",
          "data": {
            "text/plain": [
              "['Robot', 'Robotics']"
            ]
          },
          "metadata": {},
          "execution_count": 3
        }
      ]
    },
    {
      "cell_type": "code",
      "source": [
        "wk.summary(\"Robots\")"
      ],
      "metadata": {
        "colab": {
          "base_uri": "https://localhost:8080/",
          "height": 140
        },
        "id": "nN7IKlrHLDcn",
        "outputId": "0d4b290c-3e1a-4617-ba4a-ef1eec162d74"
      },
      "execution_count": 4,
      "outputs": [
        {
          "output_type": "execute_result",
          "data": {
            "text/plain": [
              "\"A robot is a machine—especially one programmable by a computer—capable of carrying out a complex series of actions automatically. A robot can be guided by an external control device, or the control may be embedded within. Robots may be constructed to evoke human form, but most robots are task-performing machines, designed with an emphasis on stark functionality, rather than expressive aesthetics.\\nRobots can be autonomous or semi-autonomous and range from humanoids such as Honda's Advanced Step in Innovative Mobility (ASIMO) and TOSY's TOSY Ping Pong Playing Robot (TOPIO) to industrial robots, medical operating robots, patient assist robots, dog therapy robots, collectively programmed swarm robots, UAV drones such as General Atomics MQ-1 Predator, and even microscopic nano robots. By mimicking a lifelike appearance or automating movements, a robot may convey a sense of intelligence or thought of its own. Autonomous things are expected to proliferate in the future, with home robotics and the autonomous car as some of the main drivers.The branch of technology that deals with the design, construction, operation, and application of robots, as well as computer systems for their control, sensory feedback, and information processing is robotics. These technologies deal with automated machines that can take the place of humans in dangerous environments or manufacturing processes, or resemble humans in appearance, behavior, or cognition. Many of today's robots are inspired by nature contributing to the field of bio-inspired robotics. These robots have also created a newer branch of robotics: soft robotics.\\nFrom the time of ancient civilization, there have been many accounts of user-configurable automated devices and even automata resembling humans and other animals, such as animatronics, designed primarily as entertainment. As mechanical techniques developed through the Industrial age, there appeared more practical applications such as automated machines, remote-control and wireless remote-control.\\nThe term comes from a Slavic root, robot-, with meanings associated with labor. The word 'robot' was first used to denote a fictional humanoid in a 1920 Czech-language play R.U.R. (Rossumovi Univerzální Roboti – Rossum's Universal Robots) by Karel Čapek, though it was Karel's brother Josef Čapek who was the word's true inventor. Electronics evolved into the driving force of development with the advent of the first electronic autonomous robots created by William Grey Walter in Bristol, England in 1948, as well as Computer Numerical Control (CNC) machine tools in the late 1940s by John T. Parsons and Frank L. Stulen.\\nThe first modern digital and programmable robot was invented by George Devol in 1954 and spawned his seminal robotics company, Unimation.  The first Unimate was sold to General Motors in 1961 where it lifted pieces of hot metal from die casting machines at the Inland Fisher Guide Plant in the West Trenton section of Ewing Township, New Jersey.Robots have replaced humans in performing repetitive and dangerous tasks which humans prefer not to do, or are unable to do because of size limitations, or which take place in extreme environments such as outer space or the bottom of the sea. There are concerns about the increasing use of robots and their role in society. Robots are blamed for rising technological unemployment as they replace workers in increasing numbers of functions. The use of robots in military combat raises ethical concerns. The possibilities of robot autonomy and potential repercussions have been addressed in fiction and may be a realistic concern in the future.\""
            ],
            "application/vnd.google.colaboratory.intrinsic+json": {
              "type": "string"
            }
          },
          "metadata": {},
          "execution_count": 4
        }
      ]
    },
    {
      "cell_type": "code",
      "source": [
        "wk.summary(\"Robots\",sentences=2)"
      ],
      "metadata": {
        "colab": {
          "base_uri": "https://localhost:8080/",
          "height": 53
        },
        "id": "cyrfxPo-LKlt",
        "outputId": "9cb5ea7a-d684-4dc4-e85a-937c7e1d6081"
      },
      "execution_count": 6,
      "outputs": [
        {
          "output_type": "execute_result",
          "data": {
            "text/plain": [
              "'A robot is a machine—especially one programmable by a computer—capable of carrying out a complex series of actions automatically. A robot can be guided by an external control device, or the control may be embedded within.'"
            ],
            "application/vnd.google.colaboratory.intrinsic+json": {
              "type": "string"
            }
          },
          "metadata": {},
          "execution_count": 6
        }
      ]
    },
    {
      "cell_type": "code",
      "source": [
        "full_page=wk.page(\"Robots\")"
      ],
      "metadata": {
        "id": "LfOygCMELUK9"
      },
      "execution_count": 8,
      "outputs": []
    },
    {
      "cell_type": "code",
      "source": [
        "full_page.content"
      ],
      "metadata": {
        "colab": {
          "base_uri": "https://localhost:8080/",
          "height": 140
        },
        "id": "bL5Dq3PvLcVG",
        "outputId": "7b28be68-4c8a-42f4-d1ca-72f370f7244c"
      },
      "execution_count": 9,
      "outputs": [
        {
          "output_type": "execute_result",
          "data": {
            "text/plain": [
              "'A robot is a machine—especially one programmable by a computer—capable of carrying out a complex series of actions automatically. A robot can be guided by an external control device, or the control may be embedded within. Robots may be constructed to evoke human form, but most robots are task-performing machines, designed with an emphasis on stark functionality, rather than expressive aesthetics.\\nRobots can be autonomous or semi-autonomous and range from humanoids such as Honda\\'s Advanced Step in Innovative Mobility (ASIMO) and TOSY\\'s TOSY Ping Pong Playing Robot (TOPIO) to industrial robots, medical operating robots, patient assist robots, dog therapy robots, collectively programmed swarm robots, UAV drones such as General Atomics MQ-1 Predator, and even microscopic nano robots. By mimicking a lifelike appearance or automating movements, a robot may convey a sense of intelligence or thought of its own. Autonomous things are expected to proliferate in the future, with home robotics and the autonomous car as some of the main drivers.The branch of technology that deals with the design, construction, operation, and application of robots, as well as computer systems for their control, sensory feedback, and information processing is robotics. These technologies deal with automated machines that can take the place of humans in dangerous environments or manufacturing processes, or resemble humans in appearance, behavior, or cognition. Many of today\\'s robots are inspired by nature contributing to the field of bio-inspired robotics. These robots have also created a newer branch of robotics: soft robotics.\\nFrom the time of ancient civilization, there have been many accounts of user-configurable automated devices and even automata resembling humans and other animals, such as animatronics, designed primarily as entertainment. As mechanical techniques developed through the Industrial age, there appeared more practical applications such as automated machines, remote-control and wireless remote-control.\\nThe term comes from a Slavic root, robot-, with meanings associated with labor. The word \\'robot\\' was first used to denote a fictional humanoid in a 1920 Czech-language play R.U.R. (Rossumovi Univerzální Roboti – Rossum\\'s Universal Robots) by Karel Čapek, though it was Karel\\'s brother Josef Čapek who was the word\\'s true inventor. Electronics evolved into the driving force of development with the advent of the first electronic autonomous robots created by William Grey Walter in Bristol, England in 1948, as well as Computer Numerical Control (CNC) machine tools in the late 1940s by John T. Parsons and Frank L. Stulen.\\nThe first modern digital and programmable robot was invented by George Devol in 1954 and spawned his seminal robotics company, Unimation.  The first Unimate was sold to General Motors in 1961 where it lifted pieces of hot metal from die casting machines at the Inland Fisher Guide Plant in the West Trenton section of Ewing Township, New Jersey.Robots have replaced humans in performing repetitive and dangerous tasks which humans prefer not to do, or are unable to do because of size limitations, or which take place in extreme environments such as outer space or the bottom of the sea. There are concerns about the increasing use of robots and their role in society. Robots are blamed for rising technological unemployment as they replace workers in increasing numbers of functions. The use of robots in military combat raises ethical concerns. The possibilities of robot autonomy and potential repercussions have been addressed in fiction and may be a realistic concern in the future.\\n\\n\\n== Summary ==\\n\\nThe word robot can refer to both physical robots and virtual software agents, but the latter are usually referred to as bots. There is no consensus on which machines qualify as robots but there is general agreement among experts, and the public, that robots tend to possess some or all of the following abilities and functions: accept electronic programming, process data or physical perceptions electronically, operate autonomously to some degree, move around, operate physical parts of itself or physical processes, sense and manipulate their environment, and exhibit intelligent behavior, especially behavior which mimics humans or other animals. Related to the concept of a robot is the field of synthetic biology, which studies entities whose nature is more comparable to living things than to machines.\\n\\n\\n== History ==\\n\\nThe idea of automata originates in the mythologies of many cultures around the world. Engineers and inventors from ancient civilizations, including Ancient China, Ancient Greece, and Ptolemaic Egypt, attempted to build self-operating machines, some resembling animals and humans. Early descriptions of automata include the artificial doves of Archytas, the artificial birds of Mozi and Lu Ban, a \"speaking\" automaton by Hero of Alexandria, a washstand automaton by Philo of Byzantium, and a human automaton described in the Lie Zi.\\n\\n\\n=== Early beginnings ===\\nMany ancient mythologies, and most modern religions include artificial people, such as the mechanical servants built by the Greek god Hephaestus (Vulcan to the Romans), the clay golems of Jewish legend and clay giants of Norse legend, and Galatea, the mythical statue of Pygmalion that came to life. Since circa 400 BC, myths of Crete include Talos, a man of bronze who guarded the island from pirates.\\nIn ancient Greece, the Greek engineer Ctesibius (c. 270 BC) \"applied a knowledge of pneumatics and hydraulics to produce the first organ and water clocks with moving figures.\":\\u200a2\\u200a In the 4th century BC, the Greek mathematician Archytas of Tarentum postulated a mechanical steam-operated bird he called \"The Pigeon\". Hero of Alexandria (10–70 AD), a Greek mathematician and inventor, created numerous user-configurable automated devices, and described machines powered by air pressure, steam and water.\\n\\nThe 11th century Lokapannatti tells of how the Buddha\\'s relics were protected by mechanical robots (bhuta vahana yanta), from the kingdom of Roma visaya (Rome); until they were disarmed by King Ashoka.In ancient China, the 3rd-century text of the Lie Zi describes an account of humanoid automata, involving a much earlier encounter between Chinese emperor King Mu of Zhou and a mechanical engineer known as Yan Shi, an \\'artificer\\'. Yan Shi proudly presented the king with a life-size, human-shaped figure of his mechanical \\'handiwork\\' made of leather, wood, and artificial organs. There are also accounts of flying automata in the Han Fei Zi and other texts, which attributes the 5th century BC Mohist philosopher Mozi and his contemporary Lu Ban with the invention of artificial wooden birds (ma yuan) that could successfully fly.\\n In 1066, the Chinese inventor Su Song built a water clock in the form of a tower which featured mechanical figurines which chimed the hours. His mechanism had a programmable drum machine with pegs (cams) that bumped into little levers that operated percussion instruments. The drummer could be made to play different rhythms and different drum patterns by moving the pegs to different locations.Samarangana Sutradhara, a Sanskrit treatise by Bhoja (11th century), includes a chapter about the construction of mechanical contrivances (automata), including mechanical bees and birds, fountains shaped like humans and animals, and male and female dolls that refilled oil lamps, danced, played instruments, and re-enacted scenes from Hindu mythology.13th century Muslim Scientist Ismail al-Jazari created several automated devices. He built automated moving peacocks driven by hydropower. He also invented the earliest known automatic gates, which were driven by hydropower, created automatic doors as part of one of his elaborate water clocks. One of al-Jazari\\'s humanoid automata was a waitress that could serve water, tea or drinks. The drink was stored in a tank with a reservoir from where the drink drips into a bucket and, after seven minutes, into a cup, after which the waitress appears out of an automatic door serving the drink. Al-Jazari invented a hand washing automaton incorporating a flush mechanism now used in modern flush toilets. It features a female humanoid automaton standing by a basin filled with water. When the user pulls the lever, the water drains and the female automaton refills the basin.\\nMark E. Rosheim summarizes the advances in robotics made by Muslim engineers, especially al-Jazari, as follows:Unlike the Greek designs, these Arab examples reveal an interest, not only in dramatic illusion, but in manipulating the environment for human comfort. Thus, the greatest contribution the Arabs made, besides preserving, disseminating and building on the work of the Greeks, was the concept of practical application. This was the key element that was missing in Greek robotic science.:\\u200a9\\u200a\\nIn Renaissance Italy, Leonardo da Vinci (1452–1519) sketched plans for a humanoid robot around 1495.  Da Vinci\\'s notebooks, rediscovered in the 1950s, contained detailed drawings of a mechanical knight now known as Leonardo\\'s robot, able to sit up, wave its arms and move its head and jaw. The design was probably based on anatomical research recorded in his Vitruvian Man. It is not known whether he attempted to build it. According to Encyclopædia Britannica, Leonardo da Vinci may have been influenced by the classic automata of al-Jazari.In Japan, complex animal and human automata were built between the 17th to 19th centuries, with many described in the 18th century Karakuri zui (Illustrated Machinery, 1796). One such automaton was the karakuri ningyō, a mechanized puppet. Different variations of the karakuri existed: the Butai karakuri, which were used in theatre, the Zashiki karakuri, which were small and used in homes, and the Dashi karakuri which were used in religious festivals, where the puppets were used to perform reenactments of traditional myths and legends.\\nIn France, between 1738 and 1739, Jacques de Vaucanson exhibited several life-sized automatons: a flute player, a pipe player and a duck.  The mechanical duck could flap its wings, crane its neck, and swallow food from the exhibitor\\'s hand, and it gave the illusion of digesting its food by excreting matter stored in a hidden compartment.  About 30 years later in Switzerland the clockmaker Pierre Jaquet-Droz made several complex mechanical figures that could write and play music.  Several of these devices still exist and work.\\n\\n\\n=== Remote-controlled systems ===\\n\\nRemotely operated vehicles were demonstrated in the late 19th century in the form of several types of remotely controlled torpedoes. The early 1870s saw remotely controlled torpedoes by John Ericsson (pneumatic), John Louis Lay (electric wire guided), and Victor von Scheliha (electric wire guided).The Brennan torpedo, invented by Louis Brennan in 1877, was powered by two contra-rotating propellers that were spun by rapidly pulling out wires from drums wound inside the torpedo. Differential speed on the wires connected to the shore station allowed the torpedo to be guided to its target, making it \"the world\\'s first practical guided missile\". In 1897 the British inventor Ernest Wilson was granted a patent for a torpedo remotely controlled by \"Hertzian\" (radio) waves and in 1898 Nikola Tesla publicly demonstrated a wireless-controlled torpedo that he hoped to sell to the US Navy.In 1903, the Spanish engineer Leonardo Torres y Quevedo demonstrated a radio control system called \"Telekino\", which he wanted to use to control an airship of his own design. Unlike the previous systems, which carried out actions of the \\'on/off\\' type, Torres device was able to memorize the signals received to execute the operations on its own and could carry out to 19 different orders.Archibald Low, known as the \"father of radio guidance systems\" for his pioneering work on guided rockets and planes during the First World War. In 1917, he demonstrated a remote controlled aircraft to the Royal Flying Corps and in the same year built the first wire-guided rocket.\\n\\n\\n=== Origin of the term \\'robot\\' ===\\n\\'Robot\\' was first applied as a term for artificial automata in the 1920 play R.U.R. by the Czech writer, Karel Čapek. However, Josef Čapek was named by his brother Karel as the true inventor of the term robot. The word \\'robot\\' itself was not new, having been in the Slavic language as robota (forced labor), a term applied to peasants obligated to compulsory service under the feudal system (see: Robot Patent).\\nČapek\\'s fictional story postulated the technological creation of artificial human bodies without souls, and the old theme of the feudal robota class eloquently fit the imagination of a new class of manufactured, artificial workers.\\nEnglish pronunciation of the word has evolved relatively quickly since its introduction. In the U.S. during the late \\'30s to early \\'40s the second syllable was pronounced with a long \"O\" like \"row-boat.\" By the late \\'50s to early \\'60s, some were pronouncing it with a short \"U\" like \"row-but\" while others used a softer \"O\" like \"row-bought.\" By the \\'70s, its current pronunciation \"row-bot\" had become predominant.\\n\\n\\n=== Early robots ===\\n\\nIn 1928, one of the first humanoid robots, Eric, was exhibited at the annual exhibition of the Model Engineers Society in London, where it delivered a speech. Invented by W. H. Richards, the robot\\'s frame consisted of an aluminium body of armour with eleven electromagnets and one motor powered by a twelve-volt power source. The robot could move its hands and head and could be controlled through remote control or voice control. Both Eric and his \"brother\" George toured the world.Westinghouse Electric Corporation built Televox in 1926; it was a cardboard cutout connected to various devices which users could turn on and off. In 1939, the humanoid robot known as Elektro was debuted at the 1939 New York World\\'s Fair. Seven feet tall (2.1 m) and weighing 265 pounds (120.2 kg), it could walk by voice command, speak about 700 words (using a 78-rpm record player), smoke cigarettes, blow up balloons, and move its head and arms. The body consisted of a steel gear, cam and motor skeleton covered by an aluminum skin. In 1928, Japan\\'s first robot, Gakutensoku, was designed and constructed by biologist Makoto Nishimura.\\n\\n\\n=== Modern autonomous robots ===\\nThe first electronic autonomous robots with complex behaviour were created by William Grey Walter of the Burden Neurological Institute at Bristol, England in 1948 and 1949. He wanted to prove that rich connections between a small number of brain cells could give rise to very complex behaviors – essentially that the secret of how the brain worked lay in how it was wired up. His first robots, named Elmer and Elsie, were constructed between 1948 and 1949 and were often described as tortoises due to their shape and slow rate of movement. The three-wheeled tortoise robots were capable of phototaxis, by which they could find their way to a recharging station when they ran low on battery power.\\nWalter stressed the importance of using purely analogue electronics to simulate brain processes at a time when his contemporaries such as Alan Turing and John von Neumann were all turning towards a view of mental processes in terms of digital computation.  His work inspired subsequent generations of robotics researchers such as Rodney Brooks, Hans Moravec and Mark Tilden.  Modern incarnations of Walter\\'s turtles may be found in the form of BEAM robotics.\\n\\nThe first digitally operated and programmable robot was invented by George Devol in 1954 and was ultimately called the Unimate. This ultimately laid the foundations of the modern robotics industry. Devol sold the first Unimate to General Motors in 1960, and it was installed in 1961 in a plant in Trenton, New Jersey to lift hot pieces of metal from a die casting machine and stack them. Devol\\'s patent for the first digitally operated programmable robotic arm represents the foundation of the modern robotics industry.The first palletizing robot was introduced in 1963 by the Fuji Yusoki Kogyo Company. In 1973, a robot with six electromechanically driven axes was patented by KUKA robotics in Germany, and the programmable universal manipulation arm was invented by Victor Scheinman in 1976, and the design was sold to Unimation.\\nCommercial and industrial robots are now in widespread use performing jobs more cheaply or with greater accuracy and reliability than humans. They are also employed for jobs which are too dirty, dangerous or dull to be suitable for humans. Robots are widely used in manufacturing, assembly and packing, transport, earth and space exploration, surgery, weaponry, laboratory research, and mass production of consumer and industrial goods.\\n\\n\\n== Future development and trends ==\\n\\nVarious techniques have emerged to develop the science of robotics and robots. One method is evolutionary robotics, in which a number of differing robots are submitted to tests. Those which perform best are used as a model to create a subsequent \"generation\" of robots. Another method is developmental robotics, which tracks changes and development within a single robot in the areas of problem-solving and other functions. Another new type of robot is just recently introduced which acts both as a smartphone and robot and is named RoboHon.As robots become more advanced, eventually there may be a standard computer operating system designed mainly for robots. Robot Operating System is an open-source set of programs being developed at Stanford University, the Massachusetts Institute of Technology and the Technical University of Munich, Germany, among others. ROS provides ways to program a robot\\'s navigation and limbs regardless of the specific hardware involved. It also provides high-level commands for items like image recognition and even opening doors. When ROS boots up on a robot\\'s computer, it would obtain data on attributes such as the length and movement of robots\\' limbs. It would relay this data to higher-level algorithms. Microsoft is also developing a \"Windows for robots\" system with its Robotics Developer Studio, which has been available since 2007.Japan hopes to have full-scale commercialization of service robots by 2025. Much technological research in Japan is led by Japanese government agencies, particularly the Trade Ministry.Many future applications of robotics seem obvious to people, even though they are well beyond the capabilities of robots available at the time of the prediction. As early as 1982 people were confident that someday robots would: 1. Clean parts by removing molding flash 2. Spray paint automobiles with absolutely no human presence 3. Pack things in boxes—for example, orient and nest chocolate candies in candy boxes 4. Make electrical cable harness 5. Load trucks with boxes—a packing problem 6. Handle soft goods, such as garments and shoes 7. Shear sheep 8. prosthesis 9. Cook fast food and work in other service industries 10. Household robot.\\nGenerally such predictions are overly optimistic in timescale.\\n\\n\\n=== New functionalities and prototypes ===\\nIn 2008, Caterpillar Inc. developed a dump truck which can drive itself without any human operator. Many analysts believe that self-driving trucks may eventually revolutionize logistics. By 2014, Caterpillar had a self-driving dump truck which is expected to greatly change the process of mining. In 2015, these Caterpillar trucks were actively used in mining operations in Australia by the mining company Rio Tinto Coal Australia. Some analysts believe that within the next few decades, most trucks will be self-driving.A literate or \\'reading robot\\' named Marge has intelligence that comes from software. She can read newspapers, find and correct misspelled words, learn about banks like Barclays, and understand that some restaurants are better places to eat than others.Baxter is a new robot introduced in 2012 which learns by guidance. A worker could teach Baxter how to perform a task by moving its hands in the desired motion and having Baxter memorize them. Extra dials, buttons, and controls are available on Baxter\\'s arm for more precision and features. Any regular worker could program Baxter and it only takes a matter of minutes, unlike usual industrial robots that take extensive programs and coding to be used. This means Baxter needs no programming to operate. No software engineers are needed. This also means Baxter can be taught to perform multiple, more complicated tasks. Sawyer was added in 2015 for smaller, more precise tasks.Prototype cooking robots have been developed and could be programmed for autonomous, dynamic and adjustable preparation of discrete meals.\\n\\n\\n== Etymology ==\\n\\nThe word robot was introduced to the public by the Czech interwar writer Karel Čapek in his play R.U.R. (Rossum\\'s Universal Robots), published in 1920. The play begins in a factory that uses a chemical substitute for protoplasm to manufacture living, simplified people called robots. The play does not focus in detail on the technology behind the creation of these living creatures, but in their appearance they prefigure modern ideas of androids, creatures who can be mistaken for humans. These mass-produced workers are depicted as efficient but emotionless, incapable of original thinking and indifferent to self-preservation. At issue is whether the robots are being exploited and the consequences of human dependence upon commodified labor (especially after a number of specially-formulated robots achieve self-awareness and incite robots all around the world to rise up against the humans).\\nKarel Čapek himself did not coin the word. He wrote a short letter in reference to an etymology in the Oxford English Dictionary in which he named his brother, the painter and writer Josef Čapek, as its actual originator.In an article in the Czech journal Lidové noviny in 1933, he explained that he had originally wanted to call the creatures laboři (\"workers\", from Latin labor). However, he did not like the word, and sought advice from his brother Josef, who suggested \"roboti\". The word robota means literally \"corvée\", \"serf labor\", and figuratively \"drudgery\" or \"hard work\" in Czech and also (more general) \"work\", \"labor\" in many Slavic languages (e.g.: Bulgarian, Russian, Serbian, Slovak, Polish, Macedonian, Ukrainian, archaic Czech, as well as robot in Hungarian). Traditionally the robota (Hungarian robot) was the work period a serf (corvée) had to give for his lord, typically 6 months of the year. The origin of the word is the Old Church Slavonic (Old Bulgarian) rabota \"servitude\" (\"work\" in contemporary Bulgarian and Russian), which in turn comes from the Proto-Indo-European root *orbh-. Robot is cognate with the German root Arbeit (work).The word robotics, used to describe this field of study, was coined by the science fiction writer Isaac Asimov. Asimov created the \"Three Laws of Robotics\" which are a recurring theme in his books. These have since been used by many others to define laws used in fiction. (The three laws are pure fiction, and no technology yet created has the ability to understand or follow them, and in fact most robots serve military purposes, which run quite contrary to the first law and often the third law. \"People think about Asimov\\'s laws, but they were set up to point out how a simple ethical system doesn\\'t work. If you read the short stories, every single one is about a failure, and they are totally impractical,\" said Dr. Joanna Bryson of the University of Bath.)\\n\\n\\n== Modern robots ==\\n\\n\\n=== Mobile robot ===\\n\\nMobile robots have the capability to move around in their environment and are not fixed to one physical location. An example of a mobile robot that is in common use today is the automated guided vehicle or automatic guided vehicle (AGV). An AGV is a mobile robot that follows markers or wires in the floor, or uses vision or lasers. AGVs are discussed later in this article.\\nMobile robots are also found in industry, military and security environments. They also appear as consumer products, for entertainment or to perform certain tasks like vacuum cleaning. Mobile robots are the focus of a great deal of current research and almost every major university has one or more labs that focus on mobile robot research.Mobile robots are usually used in tightly controlled environments such as on assembly lines because they have difficulty responding to unexpected interference. Because of this most humans rarely encounter robots. However domestic robots for cleaning and maintenance are increasingly common in and around homes in developed countries. Robots can also be found in military applications.\\n\\n\\n=== Industrial robots (manipulating) ===\\n\\nIndustrial robots usually consist of a jointed arm (multi-linked manipulator) and an end effector that is attached to a fixed surface. One of the most common type of end effector is a gripper assembly.\\nThe International Organization for Standardization gives a definition of a  manipulating industrial robot in ISO 8373:\\n\"an automatically controlled, reprogrammable, multipurpose, manipulator programmable in three or more axes, which may be either fixed in place or mobile for use in industrial automation applications.\"This definition is used by the International Federation of Robotics, the European Robotics Research Network (EURON) and many national standards committees.\\n\\n\\n=== Service robot ===\\n\\nMost commonly industrial robots are fixed robotic arms and manipulators used primarily for production and distribution of goods. The term \"service robot\" is less well-defined. The International Federation of Robotics has proposed a tentative definition, \"A service robot is a robot which operates semi- or fully  autonomously to perform services useful to the well-being of humans and equipment, excluding manufacturing operations.\"\\n\\n\\n=== Educational (interactive) robots ===\\n\\nRobots are used as educational assistants to teachers. From the 1980s, robots such as turtles were used in schools and programmed using the Logo language.There are robot kits like Lego Mindstorms, BIOLOID, OLLO from ROBOTIS, or BotBrain Educational Robots can help children to learn about mathematics, physics, programming, and electronics. Robotics have also been introduced into the lives of elementary and high school students in the form of robot competitions with the company FIRST (For Inspiration and Recognition of Science and Technology). The organization is the foundation for the FIRST Robotics Competition, FIRST Tech Challenge, FIRST Lego League Challenge and FIRST Lego League Explore competitions.\\nThere have also been robots such as the teaching computer, Leachim (1974). Leachim was an early example of speech synthesis using the using the Diphone synthesis method. 2-XL (1976) was a robot shaped game / teaching toy based on branching between audible tracks on an 8-track tape player, both invented by Michael J. Freeman. Later, the 8-track was upgraded to tape cassettes and then to digital.\\n\\n\\n=== Modular robot ===\\n\\nModular robots are a new breed of robots that are designed to increase the use of robots by modularizing their architecture. The functionality and effectiveness of a modular robot is easier to increase compared to conventional robots. These robots are composed of a single type of identical, several different identical module types, or similarly shaped modules, which vary in size. Their architectural structure allows hyper-redundancy for modular robots, as they can be designed with more than 8 degrees of freedom (DOF). Creating the programming, inverse kinematics and dynamics for modular robots is more complex than with traditional robots. Modular robots may be composed of L-shaped modules, cubic modules, and U and H-shaped modules. ANAT technology, an early modular robotic technology patented by Robotics Design Inc., allows the creation of modular robots from U and H shaped modules that connect in a chain, and are used to form heterogeneous and homogenous modular robot systems. These \"ANAT robots\" can be designed with \"n\" DOF as each module is a complete motorized robotic system that folds relatively to the modules connected before and after it in its chain, and therefore a single module allows one degree of freedom. The more modules that are connected to one another, the more degrees of freedom it will have. L-shaped modules can also be designed in a chain, and must become increasingly smaller as the size of the chain increases, as payloads attached to the end of the chain place a greater strain on modules that are further from the base. ANAT H-shaped modules do not suffer from this problem, as their design allows a modular robot to distribute pressure and impacts evenly amongst other attached modules, and therefore payload-carrying capacity does not decrease as the length of the arm increases. Modular robots can be manually or self-reconfigured to form a different robot, that may perform different applications. Because modular robots of the same architecture type are composed of modules that compose different modular robots, a snake-arm robot can combine with another to form a dual or quadra-arm robot, or can split into several mobile robots, and mobile robots can split into multiple smaller ones, or combine with others into a larger or different one. This allows a single modular robot the ability to be fully specialized in a single task, as well as the capacity to be specialized to perform multiple different tasks.\\nModular robotic technology is currently being applied in hybrid transportation, industrial automation, duct cleaning and handling. Many research centres and universities have also studied this technology, and have developed prototypes.\\n\\n\\n=== Collaborative robots ===\\nA collaborative robot or cobot is a robot that can safely and effectively interact with human workers while performing simple industrial tasks. However, end-effectors and other environmental conditions may create hazards, and as such risk assessments should be done before using any industrial motion-control application.The collaborative robots most widely used in industries today are manufactured by Universal Robots in Denmark.Rethink Robotics—founded by Rodney Brooks, previously with iRobot—introduced Baxter in September 2012; as an industrial robot designed to safely interact with neighboring human workers, and be programmable for performing simple tasks. Baxters stop if they detect a human in the way of their robotic arms and have prominent off switches. Intended for sale to small businesses, they are promoted as the robotic analogue of the personal computer. As of May 2014, 190 companies in the US have bought Baxters and they are being used commercially in the UK.\\n\\n\\n== Robots in society ==\\n\\nRoughly half of all the robots in the world are in Asia, 32% in Europe, and 16% in North America, 1% in Australasia and 1% in Africa. 40% of all the robots in the world are in Japan, making Japan the country with the highest number of robots.\\n\\n\\n=== Autonomy and ethical questions ===\\n\\nAs robots have become more advanced and sophisticated, experts and academics have increasingly explored the questions of what ethics might govern robots\\' behavior, and whether robots might be able to claim any kind of social, cultural, ethical or legal rights. One scientific team has said that it was possible that a robot brain would exist by 2019. Others predict robot intelligence breakthroughs by 2050. Recent advances have made robotic behavior more sophisticated. The social impact of intelligent robots is subject of a 2010 documentary film called Plug & Pray.Vernor Vinge has suggested that a moment may come when computers and robots are smarter than humans. He calls this \"the Singularity\". He suggests that it may be somewhat or possibly very dangerous for humans. This is discussed by a philosophy called Singularitarianism.\\nIn 2009, experts attended a conference hosted by the Association for the Advancement of Artificial Intelligence (AAAI) to discuss whether computers and robots might be able to acquire any autonomy, and how much these abilities might pose a threat or hazard. They noted that some robots have acquired various forms of semi-autonomy, including being able to find power sources on their own and being able to independently choose targets to attack with weapons. They also noted that some computer viruses can evade elimination and have achieved \"cockroach intelligence.\" They noted that self-awareness as depicted in science-fiction is probably unlikely, but that there were other potential hazards and pitfalls. Various media sources and scientific groups have noted separate trends in differing areas which might together result in greater robotic functionalities and autonomy, and which pose some inherent concerns.\\n\\n\\n=== Military robots ===\\nSome experts and academics have questioned the use of robots for military combat, especially when such robots are given some degree of autonomous functions. There are also concerns about technology which might allow some armed robots to be controlled mainly by other robots. The US Navy has funded a report which indicates that, as military robots become more complex, there should be greater attention to implications of their ability to make autonomous decisions. One researcher states that autonomous robots might be more humane, as they could make decisions more effectively. However, other experts question this.One robot in particular, the EATR, has generated public concerns over its fuel source, as it can continually refuel itself using organic substances. Although the engine for the EATR is designed to run on biomass and vegetation specifically selected by its sensors, which it can find on battlefields or other local environments, the project has stated that chicken fat can also be used.Manuel De Landa has noted that \"smart missiles\" and autonomous bombs equipped with artificial perception can be considered robots, as they make some of their decisions autonomously. He believes this represents an important and dangerous trend in which humans are handing over important decisions to machines.\\n\\n\\n=== Relationship to unemployment ===\\n\\nFor centuries, people have predicted that machines would make workers obsolete and increase unemployment, although the causes of unemployment are usually thought to be due to social policy.A recent example of human replacement involves Taiwanese technology company Foxconn who, in July 2011, announced a three-year plan to replace workers with more robots. At present the company uses ten thousand robots but will increase them to a million robots over a three-year period.Lawyers have speculated that an increased prevalence of robots in the workplace could lead to the need to improve redundancy laws.Kevin J. Delaney said \"Robots are taking human jobs. But Bill Gates believes that governments should tax companies’ use of them, as a way to at least temporarily slow the spread of automation and to fund other types of employment.\" The robot tax would also help pay a guaranteed living wage to the displaced workers.\\nThe World Bank\\'s World Development Report 2019 puts forth evidence showing that while automation displaces workers, technological innovation creates more new industries and jobs on balance.\\n\\n\\n== Contemporary uses ==\\n\\nAt present, there are two main types of robots, based on their use: general-purpose autonomous robots and dedicated robots.\\nRobots can be classified by their specificity of purpose. A robot might be designed to perform one particular task extremely well, or a range of tasks less well. All robots by their nature can be re-programmed to behave differently, but some are limited by their physical form. For example, a factory robot arm can perform jobs such as cutting, welding, gluing, or acting as a fairground ride, while a pick-and-place robot can only populate printed circuit boards.\\n\\n\\n=== General-purpose autonomous robots ===\\n\\nGeneral-purpose autonomous robots can perform a variety of functions independently. General-purpose autonomous robots typically can navigate independently in known spaces, handle their own re-charging needs, interface with electronic doors and elevators and perform other basic tasks. Like computers, general-purpose robots can link with networks, software and accessories that increase their usefulness. They may recognize people or objects, talk, provide companionship, monitor environmental quality, respond to alarms, pick up supplies and perform other useful tasks. General-purpose robots may perform a variety of functions simultaneously or they may take on different roles at different times of day. Some such robots try to mimic human beings and may even resemble people in appearance; this type of robot is called a humanoid robot. Humanoid robots are still in a very limited stage, as no humanoid robot can, as of yet, actually navigate around a room that it has never been in. Thus, humanoid robots are really quite limited, despite their intelligent behaviors in their well-known environments.\\n\\n\\n=== Factory robots ===\\n\\n\\n==== Car production ====\\nOver the last three decades, automobile factories have become dominated by robots. A typical factory contains hundreds of industrial robots working on fully automated production lines, with one robot for every ten human workers.  On an automated production line, a vehicle chassis on a conveyor is welded, glued, painted and finally assembled at a sequence of robot stations.\\n\\n\\n==== Packaging ====\\nIndustrial robots are also used extensively for palletizing and packaging of manufactured goods, for example for rapidly taking drink cartons from the end of a conveyor belt and placing them into boxes, or for loading and unloading machining centers.\\n\\n\\n==== Electronics ====\\nMass-produced printed circuit boards (PCBs) are almost exclusively manufactured by pick-and-place robots, typically with SCARA manipulators, which remove tiny electronic components from strips or trays, and place them on to PCBs with great accuracy. Such robots can place hundreds of thousands of components per hour, far out-performing a human in speed, accuracy, and reliability.\\n\\n\\n==== Automated guided vehicles (AGVs) ====\\n\\nMobile robots, following markers or wires in the floor, or using vision or lasers, are used to transport goods around large facilities, such as warehouses, container ports, or hospitals.\\n\\n\\n===== Early AGV-style robots =====\\nLimited to tasks that could be accurately defined and had to be performed the same way every time. Very little feedback or intelligence was required, and the robots needed only the most basic exteroceptors (sensors). The limitations of these AGVs are that their paths are not easily altered and they cannot alter their paths if obstacles block them. If one AGV breaks down, it may stop the entire operation.\\n\\n\\n===== Interim AGV technologies =====\\nDeveloped to deploy triangulation from beacons or bar code grids for scanning on the floor or ceiling. In most factories, triangulation systems tend to require moderate to high maintenance, such as daily cleaning of all beacons or bar codes. Also, if a tall pallet or large vehicle blocks beacons or a bar code is marred, AGVs may become lost. Often such AGVs are designed to be used in human-free environments.\\n\\n\\n===== Intelligent AGVs (i-AGVs) =====\\nSuch as SmartLoader, SpeciMinder, ADAM, Tug Eskorta, and MT 400 with Motivity are designed for people-friendly workspaces. They navigate by recognizing natural features. 3D scanners or other means of sensing the environment in two or three dimensions help to eliminate cumulative errors in dead-reckoning calculations of the AGV\\'s current position.  Some AGVs can create maps of their environment using scanning lasers with simultaneous localization and mapping (SLAM) and use those maps to navigate in real time with other path planning and obstacle avoidance algorithms. They are able to operate in complex environments and perform non-repetitive and non-sequential tasks such as transporting photomasks in a semiconductor lab, specimens in hospitals and goods in warehouses. For dynamic areas, such as warehouses full of pallets, AGVs require additional strategies using three-dimensional sensors such as time-of-flight or stereovision cameras.\\n\\n\\n=== Dirty, dangerous, dull, or inaccessible tasks ===\\n\\nThere are many jobs that humans would rather leave to robots. The job may be boring, such as domestic cleaning or sports field line marking, or dangerous, such as exploring inside a volcano. Other jobs are physically inaccessible, such as exploring another planet, cleaning the inside of a long pipe, or performing laparoscopic surgery.\\n\\n\\n==== Space probes ====\\nAlmost every unmanned space probe ever launched was a robot. Some were launched in the 1960s with very limited abilities, but their ability to fly and land (in the case of Luna 9) is an indication of their status as a robot. This includes the Voyager probes and the Galileo probes, among others.\\n\\n\\n==== Telerobots ====\\n\\nTeleoperated robots, or telerobots, are devices remotely operated from a distance by a human operator rather than following a predetermined sequence of movements, but which has semi-autonomous behaviour. They are used when a human cannot be present on site to perform a job because it is dangerous, far away, or inaccessible. The robot may be in another room or another country, or may be on a very different scale to the operator. For instance, a laparoscopic surgery robot allows the surgeon to work inside a human patient on a relatively small scale compared to open surgery, significantly shortening recovery time. They can also be used to avoid exposing workers to the hazardous and tight spaces such as in duct cleaning. When disabling a bomb, the operator sends a small robot to disable it. Several authors have been using a device called the Longpen to sign books remotely. Teleoperated robot aircraft, like the Predator Unmanned Aerial Vehicle, are increasingly being used by the military. These pilotless drones can search terrain and fire on targets. Hundreds of robots such as iRobot\\'s Packbot and the Foster-Miller TALON are being used in Iraq and Afghanistan by the U.S. military to defuse roadside bombs or improvised explosive devices (IEDs) in an activity known as explosive ordnance disposal (EOD).\\n\\n\\n==== Automated fruit harvesting machines ====\\nRobots are used to automate picking fruit on orchards at a cost lower than that of human pickers.\\n\\n\\n==== Domestic robots ====\\n\\nDomestic robots are simple robots dedicated to a single task work in home use. They are used in simple but often disliked jobs, such as vacuum cleaning, floor washing, and lawn mowing. An example of a domestic robot is a Roomba.\\n\\n\\n=== Military robots ===\\n\\nMilitary robots include the SWORDS robot which is currently used in ground-based combat. It can use a variety of weapons and there is some discussion of giving it some degree of autonomy in battleground situations.Unmanned combat air vehicles (UCAVs), which are an upgraded form of UAVs, can do a wide variety of missions, including combat. UCAVs are being designed such as the BAE Systems Mantis which would have the ability to fly themselves, to pick their own course and target, and to make most decisions on their own. The BAE Taranis is a UCAV built by Great Britain which can fly across continents without a pilot and has new means to avoid detection. Flight trials are expected to begin in 2011.The AAAI has studied this topic in depth and its president has commissioned a study to look at this issue.Some have suggested a need to build \"Friendly AI\", meaning that the advances which are already occurring with AI should also include an effort to make AI intrinsically friendly and humane. Several such measures reportedly already exist, with robot-heavy countries such as Japan and South Korea having begun to pass regulations requiring robots to be equipped with safety systems, and possibly sets of \\'laws\\' akin to Asimov\\'s Three Laws of Robotics. An official report was issued in 2009 by the Japanese government\\'s Robot Industry Policy Committee. Chinese officials and researchers have issued a report suggesting a set of ethical rules, and a set of new legal guidelines referred to as \"Robot Legal Studies.\" Some concern has been expressed over a possible occurrence of robots telling apparent falsehoods.\\n\\n\\n=== Mining robots ===\\nMining robots are designed to solve a number of problems currently facing the mining industry, including skills shortages, improving productivity from declining ore grades, and achieving environmental targets. Due to the hazardous nature of mining, in particular underground mining, the prevalence of autonomous, semi-autonomous, and tele-operated robots has greatly increased in recent times. A number of vehicle manufacturers provide autonomous trains, trucks and loaders that will load material, transport it on the mine site to its destination, and unload without requiring human intervention. One of the world\\'s largest mining corporations, Rio Tinto, has recently expanded its autonomous truck fleet to the world\\'s largest, consisting of 150 autonomous Komatsu trucks, operating in Western Australia. Similarly, BHP has announced the expansion of its autonomous drill fleet to the world\\'s largest, 21 autonomous Atlas Copco drills.Drilling, longwall and rockbreaking machines are now also available as autonomous robots. The Atlas Copco Rig Control System can autonomously execute a drilling plan on a drilling rig, moving the rig into position using GPS, set up the drill rig and drill down to specified depths. Similarly, the Transmin Rocklogic system can automatically plan a path to position a rockbreaker at a selected destination. These systems greatly enhance the safety and efficiency of mining operations.\\n\\n\\n=== Healthcare ===\\nRobots in healthcare have two main functions. Those which assist an individual, such as a sufferer of a disease like Multiple Sclerosis, and those which aid in the overall systems such as pharmacies and hospitals.\\n\\n\\n==== Home automation for the elderly and disabled ====\\n\\nRobots used in home automation have developed over time from simple basic robotic assistants, such as the Handy 1, through to semi-autonomous robots, such as FRIEND which can assist the elderly and disabled with common tasks.\\nThe population is aging in many countries, especially Japan, meaning that there are increasing numbers of elderly people to care for, but relatively fewer young people to care for them. Humans make the best carers, but where they are unavailable, robots are gradually being introduced.FRIEND is a semi-autonomous robot designed to support disabled and elderly people in their daily life activities, like preparing and serving a meal. FRIEND make it possible for patients who are paraplegic, have muscle diseases or serious paralysis (due to strokes etc.), to perform tasks without help from other people like therapists or nursing staff.\\n\\n\\n==== Pharmacies ====\\n\\nScript Pro manufactures a robot designed to help pharmacies fill prescriptions that consist of oral solids or medications in pill form. The pharmacist or pharmacy technician enters the prescription information into its information system. The system, upon determining whether or not the drug is in the robot, will send the information to the robot for filling. The robot has 3 different size vials to fill determined by the size of the pill. The robot technician, user, or pharmacist determines the needed size of the vial based on the tablet when the robot is stocked. Once the vial is filled it is brought up to a conveyor belt that delivers it to a holder that spins the vial and attaches the patient label. Afterwards it is set on another conveyor that delivers the patient\\'s medication vial to a slot labeled with the patient\\'s name on an LED read out. The pharmacist or technician then checks the contents of the vial to ensure it\\'s the correct drug for the correct patient and then seals the vials and sends it out front to be picked up.\\nMcKesson\\'s Robot RX is another healthcare robotics product that helps pharmacies dispense thousands of medications daily with little or no errors. The robot can be ten feet wide and thirty feet long and can hold hundreds of different kinds of medications and thousands of doses. The pharmacy saves many resources like staff members that are otherwise unavailable in a resource scarce industry. It uses an electromechanical head coupled with a pneumatic system to capture each dose and deliver it to either its stocked or dispensed location. The head moves along a single axis while it rotates 180 degrees to pull the medications. During this process it uses barcode technology to verify it\\'s pulling the correct drug. It then delivers the drug to a patient specific bin on a conveyor belt. Once the bin is filled with all of the drugs that a particular patient needs and that the robot stocks, the bin is then released and returned out on the conveyor belt to a technician waiting to load it into a cart for delivery to the floor.\\n\\n\\n=== Research robots ===\\n\\nWhile most robots today are installed in factories or homes, performing labour or life saving jobs, many new types of robot are being developed in laboratories around the world. Much of the research in robotics focuses not on specific industrial tasks, but on investigations into new types of robot, alternative ways to think about or design robots, and new ways to manufacture them. It is expected that these new types of robot will be able to solve real world problems when they are finally realized.\\n\\n\\n==== Bionic and biomimetic robots ====\\nOne approach to designing robots is to base them on animals. BionicKangaroo was designed and engineered by studying and applying the physiology and methods of locomotion of a kangaroo.\\n\\n\\n==== Nanorobots ====\\nNanorobotics is the emerging technology field of creating machines or robots whose components are at or close to the microscopic scale of a nanometer (10−9 meters). Also known as \"nanobots\" or \"nanites\", they would be constructed from molecular machines. So far, researchers have mostly produced only parts of these complex systems, such as bearings, sensors, and synthetic molecular motors, but functioning robots have also been made such as the entrants to the Nanobot Robocup contest. Researchers also hope to be able to create entire robots as small as viruses or bacteria, which could perform tasks on a tiny scale. Possible applications include micro surgery (on the level of individual cells), utility fog, manufacturing, weaponry and cleaning. Some people have suggested that if there were nanobots which could reproduce, the earth would turn into \"grey goo\", while others argue that this hypothetical outcome is nonsense.\\n\\n\\n==== Reconfigurable robots ====\\n\\nA few researchers have investigated the possibility of creating robots which can alter their physical form to suit a particular task, like the fictional T-1000. Real robots are nowhere near that sophisticated however, and mostly consist of a small number of cube shaped units, which can move relative to their neighbours. Algorithms have been designed in case any such robots become a reality.\\n\\n\\n==== Robotic, mobile laboratory operators ====\\n\\nIn July 2020 scientists reported the development of a mobile robot chemist and demonstrate that it can assist in experimental searches. According to the scientists their strategy was automating the researcher rather than the instruments – freeing up time for the human researchers to think creatively – and could identify photocatalyst mixtures for hydrogen production from water that were six times more active than initial formulations. The modular robot can operate laboratory instruments, work nearly around the clock, and autonomously make decisions on his next actions depending on experimental results.\\n\\n\\n==== Soft-bodied robots ====\\nRobots with silicone bodies and flexible actuators (air muscles, electroactive polymers, and ferrofluids) look and feel different from robots with rigid skeletons, and can have different behaviors. Soft, flexible (and sometimes even squishy) robots are often designed to mimic the biomechanics of animals and other things found in nature, which is leading to new applications in medicine, care giving, search and rescue, food handling and manufacturing, and scientific exploration.\\n\\n\\n==== Swarm robots ====\\nInspired by colonies of insects such as ants and bees, researchers are modeling the behavior of swarms of thousands of tiny robots which together perform a useful task, such as finding something hidden, cleaning, or spying. Each robot is quite simple, but the emergent behavior of the swarm is more complex. The whole set of robots can be considered as one single distributed system, in the same way an ant colony can be considered a superorganism, exhibiting swarm intelligence. The largest swarms so far created include the iRobot swarm, the SRI/MobileRobots CentiBots project and the Open-source Micro-robotic Project swarm, which are being used to research collective behaviors. Swarms are also more resistant to failure. Whereas one large robot may fail and ruin a mission, a swarm can continue even if several robots fail. This could make them attractive for space exploration missions, where failure is normally extremely costly.\\n\\n\\n==== Haptic interface robots ====\\n\\nRobotics also has application in the design of virtual reality interfaces. Specialized robots are in widespread use in the haptic research community. These robots, called \"haptic interfaces\", allow touch-enabled user interaction with real and virtual environments. Robotic forces allow simulating the mechanical properties of \"virtual\" objects, which users can experience through their sense of touch.\\n\\n\\n=== Contemporary art and sculpture ===\\n\\nRobots are used by contemporary artists to create works that include mechanical automation. There are many branches of robotic art, one of which is robotic installation art, a type of installation art that is programmed to respond to viewer interactions, by means of computers, sensors and actuators. The future behavior of such installations can therefore be altered by input from either the artist or the participant, which differentiates these artworks from other types of kinetic art.\\nLe Grand Palais in Paris organized an exhibition \"Artists & Robots\", featuring artworks created by more than forty artists with the help of robots in 2018.\\n\\n\\n== Robots in popular culture ==\\n\\n\\n=== Literature ===\\n\\nRobotic characters, androids (artificial men/women) or gynoids (artificial women), and cyborgs (also \"bionic men/women\", or humans with significant mechanical enhancements) have become a staple of science fiction.\\nThe first reference in Western literature to mechanical servants appears in Homer\\'s Iliad. In Book XVIII, Hephaestus, god of fire, creates new armor for the hero Achilles, assisted by robots. According to the Rieu translation, \"Golden maidservants hastened to help their master. They looked like real women and could not only speak and use their limbs but were endowed with intelligence and trained in handwork by the immortal gods.\" The words \"robot\" or \"android\" are not used to describe them, but they are nevertheless mechanical devices human in appearance. \"The first use of the word Robot was in Karel Čapek\\'s play R.U.R. (Rossum\\'s Universal Robots) (written in 1920)\". Writer Karel Čapek was born in Czechoslovakia (Czech Republic).\\nPossibly the most prolific author of the twentieth century was Isaac Asimov (1920–1992) who published over five-hundred books. Asimov is probably best remembered for his science-fiction stories and especially those about robots, where he placed robots and their interaction with society at the center of many of his works. Asimov carefully considered the problem of the ideal set of instructions robots might be given to lower the risk to humans, and arrived at his Three Laws of Robotics: a robot may not injure a human being or, through inaction, allow a human being to come to harm; a robot must obey orders given it by human beings, except where such orders would conflict with the First Law; and a robot must protect its own existence as long as such protection does not conflict with the First or Second Law. These were introduced in his 1942 short story \"Runaround\", although foreshadowed in a few earlier stories. Later, Asimov added the Zeroth Law: \"A robot may not harm humanity, or, by inaction, allow humanity to come to harm\"; the rest of the laws are modified sequentially to acknowledge this.\\nAccording to the Oxford English Dictionary, the first passage in Asimov\\'s short story \"Liar!\" (1941) that mentions the First Law is the earliest recorded use of the word robotics.  Asimov was not initially aware of this; he assumed the word already existed by analogy with mechanics, hydraulics, and other similar terms denoting branches of applied knowledge.\\n\\n\\n=== Films ===\\n\\nRobots appear in many films. Most of the robots in cinema are fictional. Two of the most famous are R2-D2 and C-3PO from the Star Wars franchise.\\n\\n\\n=== Sex robots ===\\n\\nThe concept of humanoid sex robots has drawn public attention and elicited debate regarding their supposed benefits and potential effects on society. Opponents argue that the introduction of such devices would be socially harmful, and demeaning to women and children, while proponents cite their potential therapeutical benefits, particularly in aiding people with dementia or depression.\\n\\n\\n=== Problems depicted in popular culture ===\\n\\nFears and concerns about robots have been repeatedly expressed in a wide range of books and films. A common theme is the development of a master race of conscious and highly intelligent robots, motivated to take over or destroy the human race. Frankenstein (1818), often called the first science fiction novel, has become synonymous with the theme of a robot or android advancing beyond its creator.\\nOther works with similar themes include The Mechanical Man, The Terminator, Runaway, RoboCop, the Replicators in Stargate, the Cylons in Battlestar Galactica, the Cybermen and Daleks in Doctor Who, The Matrix, Enthiran and I, Robot. Some fictional robots are programmed to kill and destroy; others gain superhuman intelligence and abilities by upgrading their own software and hardware. Examples of popular media where the robot becomes evil are 2001: A Space Odyssey, Red Planet and Enthiran.\\nThe 2017 game Horizon Zero Dawn explores themes of robotics in warfare, robot ethics, and the AI control problem, as well as the positive or negative impact such technologies could have on the environment.\\nAnother common theme is the reaction, sometimes called the \"uncanny valley\", of unease and even revulsion at the sight of robots that mimic humans too closely.More recently, fictional representations of artificially intelligent robots in films such as A.I. Artificial Intelligence and Ex Machina and the 2016 TV adaptation of Westworld have engaged audience sympathy for the robots themselves.\\n\\n\\n== See also ==\\n\\n\\n== Further reading ==\\nSarah Al-Arshani (29 November 2021). \"Researchers behind the world\\'s first living robot have found a way to make it reproduce — by shaping it like Pac-Man\". Business Insider.\\nSee this humanoid robot artist sketch drawings from sight (CNN, Video, 2019)\\nMargolius, Ivan. \\'The Robot of Prague\\', Newsletter, The Friends of Czech Heritage no. 17, Autumn 2017, pp. 3 – 6. https://czechfriends.net/images/RobotsMargoliusJul2017.pdf\\nGlaser, Horst Albert and Rossbach, Sabine: The Artificial Human, Frankfurt/M., Bern, New York 2011 \"A Tragical History\"\\nGutkind, L. (2006). Almost Human: Making Robots Think. New York: W. W. Norton & Company, Inc.\\nCraig, J.J. (2005). Introduction to Robotics, Pearson Prentice Hall. Upper Saddle River, NJ.\\nTsai, L. W. (1999). Robot Analysis. Wiley. New York.\\nSotheby\\'s New York. The Tin Toy Robot Collection of Matt Wyse (1996)\\nDeLanda, Manuel. War in the Age of Intelligent Machines. 1991. Swerve. New York.\\nNeedham, Joseph (1986). Science and Civilization in China: Volume 2. Taipei: Caves Books Ltd.\\nCheney, Margaret [1989:123] (1981). Tesla, Man Out of Time. Dorset Press. New York. ISBN 0-88029-419-1\\nČapek, Karel (1920). R.U.R., Aventinum, Prague.\\nTechCast Article Series, Jason Rupinski and Richard Mix, \"Public Attitudes to Androids: Robot Gender, Tasks, & Pricing\"\\n\\n\\n== References ==\\n\\n\\n== External links ==\\n\\nRobotics at Curlie\\nJournal of Field Robotics'"
            ],
            "application/vnd.google.colaboratory.intrinsic+json": {
              "type": "string"
            }
          },
          "metadata": {},
          "execution_count": 9
        }
      ]
    },
    {
      "cell_type": "code",
      "source": [
        "full_page.references"
      ],
      "metadata": {
        "colab": {
          "base_uri": "https://localhost:8080/"
        },
        "id": "mEY3pwuQLkg1",
        "outputId": "4ea13765-8034-4cc1-b383-33ab0ba1aa12"
      },
      "execution_count": 10,
      "outputs": [
        {
          "output_type": "execute_result",
          "data": {
            "text/plain": [
              "['http://www.itnews.com.au/news/bhp-billiton-hits-go-on-autonomous-drills-421008',\n",
              " 'http://rocklogic.com.au/',\n",
              " 'http://www.theage.com.au/it-pro/business-it/forget-selfdriving-google-cars-australia-has-selfdriving-trucks-20141020-118o47.html',\n",
              " 'http://www.anu.edu.au/people/Roger.Clarke/SOS/Asimov.html',\n",
              " 'http://www.abc.net.au/news/2014-05-28/robots-could-cost-australian-economy-5-million-jobs-expert-says/5484740',\n",
              " 'http://www.cbc.ca/arts/books/story/2007/08/15/longpen-trial.html',\n",
              " 'http://www.ept.ca/issues/story.aspx?aid=1000348213',\n",
              " 'http://www.roboticsdesign.qc.ca/assets/Uploads/PDF-content/InThePress/HVAC/Pluming+HVACmagazineapril2010.pdf',\n",
              " 'http://www.activrobots.com/RESEARCH/wheelchair.html',\n",
              " 'http://www.aethon.com/can_do_tug.html',\n",
              " 'http://www.agvsystems.com/basics/vehicle.htm',\n",
              " 'http://www.asimovlaws.com/articles/archives/2004/07/why_we_need_fri_1.html',\n",
              " 'http://www.asimovonline.com/asimov_FAQ.html',\n",
              " 'http://www.assembleon.com/surface-mount-assembly/pick-and-place-equipment/a-series/',\n",
              " 'http://www.atlascopco.com/rcs/',\n",
              " 'http://www.bartleby.com/61/roots/IE363.html',\n",
              " 'http://adrianboeing.blogspot.com/2011/06/aimex.html',\n",
              " 'http://www.businessinsider.com/rio-tinto-using-self-driving-trucks-to-transport-ore-2015-10?r=UK&IR=T',\n",
              " 'http://www.ccsrobotics.com/products/speciminder.html',\n",
              " 'http://blog.codexify.com/2015/10/robohon-cute-little-robot-cum-smartphone.html',\n",
              " 'http://www.contactsystems.com/c5_series.html',\n",
              " 'http://www.controleng.com/single-article/universal-robots-collaborate-outside-enclosures/83cc537080cf25e043eb9b770fd1d62f.html',\n",
              " 'http://www.csmonitor.com/Technology/Tech/2010/0217/New-role-for-robot-warriors',\n",
              " 'http://cyberneticzoo.com/robots/1932-%E2%80%93-george-robot-%E2%80%93-capt-w-h-richards-british/',\n",
              " 'http://cyberneticzoo.com/tag/leachim/',\n",
              " 'http://www.dailytech.com/New%20Navyfunded%20Report%20Warns%20of%20War%20Robots%20Going%20Terminator/article14298.htm',\n",
              " 'http://www.defenseindustrydaily.com/battlefield-robots-to-iraq-and-beyond-0727',\n",
              " 'http://www.driverless-future.com/?page_id=384',\n",
              " 'http://www.e-drexler.com/d/06/00/EOC/EOC_Chapter_11.html',\n",
              " 'http://www.e-health-insider.com/comment_and_analysis/250/robotic_future_of_patient_care',\n",
              " 'http://www.emrotechnologies.com/',\n",
              " 'http://www.engineering.com/AdvancedManufacturing/ArticleID/12169',\n",
              " 'http://www.equipmentworld.com/video-why-caterpillars-autonomous-mining-tech-is-completely-different-from-anything-its-ever-done/',\n",
              " 'http://www.ethiopianreview.com/articles/23156',\n",
              " 'http://www.etymonline.com/index.php?allowed_in_frame=0&search=robot&searchmode=or',\n",
              " 'http://www.fastcompany.com/magazine/131/the-caterpillar-self-driving-dump-truck.html?nav=inform-rl',\n",
              " 'http://www.fennecfoxtech.com',\n",
              " 'http://www.foxnews.com/story/0,2933,533382,00.html',\n",
              " 'http://www.freetimes.com/stories/13/35/robot-dreams-the-strange-tale-of-a-mans-quest-to-rebuild-his-mechanical-childhood-friend',\n",
              " 'http://www.fujiyusoki.com/English/rekishi.htm',\n",
              " 'http://www.gadgetrivia.com/8164-best_robot_international_robot_exhibition',\n",
              " 'http://science.howstuffworks.com/robot.htm',\n",
              " 'http://www.irobot.com/sp.cfm?pageid=149',\n",
              " 'http://www.jervisbwebb.com/Products/automatic_trailer_loading.aspx?pid=190&qs=1_3_',\n",
              " 'http://www.koreaittimes.com/story/4668/robots-almost-conquering-walking-reading-dancing',\n",
              " 'http://www.kuka-robotics.com/germany/en/company/group/milestones/1973.htm',\n",
              " 'http://www.livescience.com/technology/060526_robot_rules.html',\n",
              " 'http://www.macdorman.com/kfm/writings/pubs/Ho2007EmotionUncanny.pdf',\n",
              " 'http://research.microsoft.com/en-us/um/people/horvitz/AAAI_Presidential_Panel_2008-2009.htm',\n",
              " 'http://www.mobilerobots.com/AGV.html',\n",
              " 'http://excelle.monster.com/benefits/articles/4983-5-jobs-being-replaced-by-robots?page=1',\n",
              " 'http://www.nbcnews.com/id/40534768',\n",
              " 'http://www.newstatesman.com/200606120018',\n",
              " 'http://asia.nikkei.com/Business/Trends/Self-driving-dump-trucks-automatic-shovels-coming-to-Australian-mines',\n",
              " 'http://www.oxforddictionaries.com/view/entry/m_en_gb0714530#m_en_gb0714530',\n",
              " 'http://www.physorg.com/news95078958.html',\n",
              " 'http://www.popsci.com/technology/article/2010-02/field-guide-flying-robots',\n",
              " 'http://www.popsci.com/technology/article/2010-02/ping-pong-playing-terminator',\n",
              " 'http://www.popularmechanics.com/technology/military_law/4252643.html?page=2',\n",
              " 'http://www.riotinto.com/media/5157_21165.asp',\n",
              " 'http://www.rmtrobotics.com/tire_agv.html',\n",
              " 'http://www.robotictechnologyinc.com/images/upload/file/Cyclone%20Power%20Press%20Release%20EATR%20Rumors%20Final%2016%20July%2009.pdf',\n",
              " 'http://www.robotictechnologyinc.com/images/upload/file/Presentation%20EATR%20Brief%20Overview%206%20April%2009.pdf',\n",
              " 'http://www.robots.com/blog.php?tag=48',\n",
              " 'http://news.sky.com/skynews/Home/UK-News/Taranis-MoD-And-BAE-Systems-Unveil-Futuristic-Unmanned-Fighter-Jet/Article/201007215663917?lpos=UK_News_Second_Home_Page_Article_Teaser_Region_0&lid=ARTICLE_15663917_Taranis:_MoD_And_BAE_Systems_Unveil_Futuristic_Unmanned_Fighter_Jet',\n",
              " 'http://www.slate.com/id/2218834/',\n",
              " 'http://papers.ssrn.com/sol3/papers.cfm?abstract_id=3044448',\n",
              " 'http://www.techbirbal.com/viewtopic.php?p=3687&sid=7faaeeb64eaf84880b23755fea7fa7cd',\n",
              " 'http://www.technologyreview.com/read_article.aspx?id=17363&ch=biotech&sc=&pg=1',\n",
              " 'http://www.techrepublic.com/article/robots-of-death-robots-of-love-the-reality-of-android-soldiers-and-why-laws-for-robots-are-doomed-to-failure/',\n",
              " 'http://www.thespacereview.com/article/2004/1',\n",
              " 'http://content.time.com/time/magazine/article/0,9171,904056,00.html',\n",
              " 'http://www.virtuar.com/click/2005/robonexus/index.htm',\n",
              " 'http://onlinelibrary.wiley.com/journal/10.1002/(ISSN)1556-4967',\n",
              " 'http://blog.wired.com/defense/2007/08/armed-robots-so.html',\n",
              " 'http://blog.wired.com/defense/2007/08/httpwwwnational.html',\n",
              " 'http://news.xinhuanet.com/english2010/china/2011-07/30/c_131018764.htm',\n",
              " 'http://capek.misto.cz/english/robot.html',\n",
              " 'http://www.plugandpray-film.de/en/content.html',\n",
              " 'http://www.dira.dk/pdf/robotdef.pdf',\n",
              " 'http://biomed.brown.edu/Courses/BI108/BI108_2005_Groups/04/davinci.html',\n",
              " 'http://www.ri.cmu.edu/projects/project_163.html',\n",
              " 'http://www.arts.cornell.edu/theatrearts/CTA/Program%20Notes/comic%20potential.asp',\n",
              " 'http://www.csun.edu/cod/conf/1999/proceedings/session0059.htm',\n",
              " 'http://groups.csail.mit.edu/drl/publications/papers/MeltSortGrow.pdf',\n",
              " 'http://www-rohan.sdsu.edu/faculty/vinge/misc/singularity.html',\n",
              " 'http://www.faculty.ucr.edu/~currie/roboadam.htm',\n",
              " 'http://www.aerobuzz.fr/spip.php?article2346',\n",
              " 'http://mars.jpl.nasa.gov/MPF/rover/sojourner.html',\n",
              " 'http://pubmed.ncbi.nlm.nih.gov/17206888',\n",
              " 'http://pubmed.ncbi.nlm.nih.gov/32641813',\n",
              " 'http://uli.nli.org.il/F/?func=find-b&local_base=NLX10&find_code=UID&request=987007556878005171',\n",
              " 'http://uli.nli.org.il/F/?func=find-b&local_base=NLX10&find_code=UID&request=987007541227305171',\n",
              " 'http://www.meti.go.jp/english/press/data/20090325_01.html',\n",
              " 'http://www.stat.go.jp/english/data/handbook/c02cont.htm',\n",
              " 'http://www.kurzweilai.net/meme/frame.html?main=/articles/art0220.html',\n",
              " 'http://www.leonardo3.net/leonardo/books%20I%20robot%20di%20Leonardo%20-%20Taddei%20Mario%20-%20english%20Leonardo%20robots%201.html',\n",
              " 'http://www.smartcaddy.net',\n",
              " 'http://www.aaai.org/AITopics/newstopics/ethics5.html',\n",
              " 'http://www.aaai.org/AITopics/pmwiki/pmwiki.php/AITopics/Ethics',\n",
              " 'http://arxiv.org/abs/1712.02881',\n",
              " 'http://www.atis.org/tg2k/_bot.html',\n",
              " 'http://www.crnano.org/Debate.htm',\n",
              " 'http://doi.org/10.1007%2F978-94-007-0579-1',\n",
              " 'http://doi.org/10.1007%2Fs12369-009-0019-1',\n",
              " 'http://doi.org/10.1038%2Fs41586-020-2442-2',\n",
              " 'http://doi.org/10.1089%2Fend.2006.20.986',\n",
              " 'http://doi.org/10.1109%2FROSE.2011.6058520',\n",
              " 'http://doi.org/10.1109%2FTRO.2011.2155830',\n",
              " 'http://doi.org/10.1109%2Fhumanoids.2017.8246925',\n",
              " 'http://doi.org/10.1109%2Fic-ETITE47903.2020.78',\n",
              " 'http://doi.org/10.2307%2F3391092',\n",
              " 'http://www.euron.org/resources/standards.html',\n",
              " 'http://www.gyre.org/news/explore/robot-takeover',\n",
              " 'http://www.ifr.org/service-robots/',\n",
              " 'http://www.ifr.org/uploads/media/History_of_Industrial_Robots_online_brochure_by_IFR_2012.pdf',\n",
              " 'http://invent.org/inductee-detail/?IID=426',\n",
              " 'http://www.iop.org/EJ/news/-topic=763/journal/0957-4484',\n",
              " 'http://www.islandone.org/MMSG/9609lego.htm',\n",
              " 'http://www.jstor.org/stable/3391092',\n",
              " 'http://www.robothalloffame.org/unimate.html',\n",
              " 'http://www.sme.org/cgi-bin/find-articles.pl?&ME06ART39&ME&20060709',\n",
              " 'http://www.swarmrobot.org',\n",
              " 'http://www.worldbank.org/en/publication/wdr2019',\n",
              " 'http://www.worldcat.org/issn/1476-4687',\n",
              " 'http://home.swipnet.se/islam/articles/HistoryofSciences.htm#IX.%20Mechanical%20Engineering',\n",
              " 'http://www-history.mcs.st-andrews.ac.uk/history/Biographies/Heron.html',\n",
              " 'http://www.ias.uwe.ac.uk/Robots/gwonline/gwonline.html',\n",
              " 'http://news.bbc.co.uk/1/hi/technology/10602105.stm',\n",
              " 'http://news.bbc.co.uk/1/hi/technology/6425927.stm',\n",
              " 'http://news.bbc.co.uk/1/hi/uk/4012797.stm',\n",
              " 'http://news.bbc.co.uk/2/hi/technology/8182003.stm',\n",
              " 'http://news.bbc.co.uk/cbbcnews/hi/find_out/guides/tech/robots/newsid_3914000/3914569.stm',\n",
              " 'http://www.familyhealthguide.co.uk/scientists-predict-artificial-brain-in-10-years.html',\n",
              " 'http://ukinjapan.fco.gov.uk/resources/en/pdf/5606907/5633632/next-generation-services-robots',\n",
              " 'http://www.reffell.org.uk/people/ericrobot.php',\n",
              " 'https://www.amazon.com/Artificial-Human-Tragical-History/dp/3631578083',\n",
              " 'https://www.bbc.com/news/business-20800118',\n",
              " 'https://www.bbc.com/news/technology-34118482',\n",
              " 'https://www.bloomberg.com/news/articles/2014-12-09/self-driving-trucks-to-revolutionize-logistics-dhl-says',\n",
              " 'https://www.britannica.com/biography/al-Jazari',\n",
              " 'https://www.businessinsider.com/researchers-working-on-worlds-first-living-robot-reproduce-itself-2021-11',\n",
              " 'https://www.cnn.com/videos/business/2019/06/06/uk-oxford-university-ai-da-humanoid-robot-artist-ge-lon-orig.cnn-business/video/playlists/business-robots/',\n",
              " 'https://www.dailykos.com/story/2017/10/30/1710902/-You-Are-Pronouncing-the-Word-Robot-Wrong',\n",
              " 'https://www.drugtopics.com/view/future-pharmacy-automation',\n",
              " 'https://www.engadget.com/2009/02/18/navy-report-warns-of-robot-uprising-suggests-a-strong-moral-com/',\n",
              " 'https://www.engadget.com/tag/robotapocalypse',\n",
              " 'https://worldwide.espacenet.com/textdoc?DB=EPODOC&IDX=US613809',\n",
              " 'https://www.forbes.com/2009/10/08/robots-mckesson-business-healthcare-medical-tech-09-mckesson.html',\n",
              " 'https://futurism.com/tech-may-widen-the-gap-between-rich-and-poor',\n",
              " 'https://books.google.com/books?id=DzMR8x_rbPgC&q=torpedo',\n",
              " 'https://books.google.com/books?id=EWbMiyS9v98C',\n",
              " 'https://books.google.com/books?id=Ge-cDgAAQBAJ&q=Mobile+robots+are+also+found+in+industry,+military+and+security+environments.&pg=PA224',\n",
              " 'https://books.google.com/books?id=IxtL54iiDPUC&pg=2',\n",
              " 'https://books.google.com/books?id=SeGyrCfYs2AC&q=bhoja+automata&pg=PA164',\n",
              " 'https://books.google.com/books?id=SyxOHOCVcVkC&pg=PA68',\n",
              " 'https://books.google.com/books?id=TaZCwjtmzZYC&q=automata&pg=PA222',\n",
              " 'https://books.google.com/books?id=_KLAxmR8PZAC',\n",
              " 'https://books.google.com/books?id=fduW6KHhWtQC&q=robot',\n",
              " 'https://books.google.com/books?id=h5tKJvApybsC&q=hephaestus+handmaidens&pg=PA114',\n",
              " 'https://books.google.com/books?id=stIWUpWvI94C',\n",
              " 'https://books.google.com/books?id=yuSrDwAAQBAJ',\n",
              " 'https://news.google.com/newspapers?id=W4diAAAAIBAJ&pg=1326,3744066&dq=logo+turtle+robot&hl=en',\n",
              " 'https://store.hp.com/us/en/cv/taw-article?ai=199&ap=46&au=The_softer_side_of_robotics&am=May&ay=2019#false',\n",
              " 'https://www.huffingtonpost.com/2012/03/06/four-legged-robot-sets-new-speed-record_n_1324701.html',\n",
              " 'https://www.indianapolismonthly.com/arts-and-culture/books-tv-and-radio/hank-greens-first-novel-is-an-absolutely-remarkable-thing',\n",
              " 'https://www.merriam-webster.com/dictionary/robot',\n",
              " 'https://www.messynessychic.com/2018/02/21/the-boy-robot-of-1774/?__s=zht5pogfqikwkrfgcene&utm_source=drip&utm_medium=email&utm_campaign=Weekend+Conversation+Starters&utm_content=Weekend+Conversation+Starters',\n",
              " 'https://www.nature.com/articles/s41586-020-2442-2',\n",
              " 'https://www.nytimes.com/2007/03/27/science/27robo.html?pagewanted=1&_r=1&ei=5070&en=91395fe7439a5b72&ex=1177128000',\n",
              " 'https://www.nytimes.com/2009/07/26/science/26robot.html?_r=1&ref=todayspaper',\n",
              " 'https://www.nytimes.com/2011/08/16/business/george-devol-developer-of-robot-arm-dies-at-99.html',\n",
              " 'https://www.nytimes.com/2012/09/18/science/a-robot-with-a-delicate-touch.html',\n",
              " 'https://www.nytimes.com/2016/03/09/business/economy/a-future-without-jobs-two-views-of-the-changing-work-force.html',\n",
              " 'https://www.popsci.com/scitech/article/2009-08/evolving-robots-learn-lie-hide-resources-each-other/',\n",
              " 'https://www.popsci.com/soft-robot-computer',\n",
              " 'https://qz.com/911968/bill-gates-the-robot-that-takes-your-job-should-pay-taxes/',\n",
              " 'https://www.reuters.com/article/technologyNews/idUST32811820071202',\n",
              " 'https://www.robots.com/education/industrial-history',\n",
              " 'https://www.springer.com/engineering/robotics/book/978-94-007-0578-4',\n",
              " 'https://futureofworkhub.squarespace.com/allcontent/2014/11/20/judgment-day-employment-law-and-robots-in-the-workplace',\n",
              " 'https://papers.ssrn.com/sol3/papers.cfm?abstract_id=3044448',\n",
              " 'https://techxplore.com/news/2021-07-kitchen-robot-riga-cooks-future.html',\n",
              " 'https://www.theatlantic.com/magazine/archive/2015/07/world-without-work/395294/',\n",
              " 'https://www.theguardian.com/books/2002/feb/16/extract.gabywood',\n",
              " 'https://www.trtworld.com/life/robots-can-be-racist-and-sexist-new-study-warns-58218',\n",
              " 'https://www.wired.com/dangerroom/2009/07/company-denies-its-robots-feed-on-the-dead/',\n",
              " 'https://www.wired.com/dangerroom/2009/08/robot-three-way-portends-autonomous-future/',\n",
              " 'https://www.wired.com/science/discoveries/news/2000/12/40750',\n",
              " 'https://www.wired.com/wired/archive/13.11/bomb.html?pg=3&topic=bomb',\n",
              " 'https://www.wsj.com/articles/SB10000872396390443720204578004441732584574',\n",
              " 'https://www.wsj.com/articles/SB10001424127887324144304578624221804774116',\n",
              " 'https://www.youtube.com/watch?v=rVlhMGQgDkY',\n",
              " 'https://www.youtube.com/watch?v=v2HcjanNWFM',\n",
              " 'https://aleph.nkp.cz/F/?func=find-c&local_base=aut&ccl_term=ica=ph402600&CON_LNG=ENG',\n",
              " 'https://upes.academia.edu/SeeteshPANDE/Papers/1717325/The_Utilization_of_Robotic_Space_Probes_in_Deep_Space_Missions_Case_Study_of_AI_Protocols_and_Nuclear_Power_Requirements',\n",
              " 'https://ui.adsabs.harvard.edu/abs/2017arXiv171202881A',\n",
              " 'https://ui.adsabs.harvard.edu/abs/2020Natur.583..237B',\n",
              " 'https://catalogue.bnf.fr/ark:/12148/cb12267450c',\n",
              " 'https://data.bnf.fr/ark:/12148/cb12267450c',\n",
              " 'https://www.grandpalais.fr/en/event/artists-robots',\n",
              " 'https://id.loc.gov/authorities/subjects/sh2008004640',\n",
              " 'https://id.loc.gov/authorities/subjects/sh85114637',\n",
              " 'https://www.nist.gov/pml/time-and-frequency-division/popular-links/walk-through-time/walk-through-time-early-clocks',\n",
              " 'https://d-nb.info/gnd/4050208-9',\n",
              " 'https://id.ndl.go.jp/auth/ndlna/00569589',\n",
              " 'https://czechfriends.net/images/RobotsMargoliusJul2017.pdf',\n",
              " 'https://archive.org/details/americanwriters0000oake',\n",
              " 'https://archive.org/details/americanwriters0000oake/page/24',\n",
              " 'https://archive.org/details/isbn_9781578067381',\n",
              " 'https://web.archive.org/web/20060517153330/http://rmtrobotics.com/tire_agv.html',\n",
              " 'https://web.archive.org/web/20060617082835/http://www.euron.org/resources/standards.html',\n",
              " 'https://web.archive.org/web/20060718024255/http://www.faculty.ucr.edu/~currie/roboadam.htm',\n",
              " 'https://web.archive.org/web/20070101133646/http://www-rohan.sdsu.edu/faculty/vinge/misc/singularity.html',\n",
              " 'https://web.archive.org/web/20070202121608/http://www.atis.org/tg2k/_bot.html',\n",
              " 'https://web.archive.org/web/20070619212352/http://groups.csail.mit.edu/drl/publications/papers/MeltSortGrow.pdf',\n",
              " 'https://web.archive.org/web/20070628064010/http://www.dira.dk/pdf/robotdef.pdf',\n",
              " 'https://web.archive.org/web/20070812071030/http://www.virtuar.com/click/2005/robonexus/index.htm',\n",
              " 'https://web.archive.org/web/20070826201610/http://www.defenseindustrydaily.com/battlefield-robots-to-iraq-and-beyond-0727/',\n",
              " 'https://web.archive.org/web/20070826213640/http://science.howstuffworks.com/robot.htm',\n",
              " 'https://web.archive.org/web/20070916084349/http://biomed.brown.edu/Courses/BI108/BI108_2005_Groups/04/davinci.html',\n",
              " 'https://web.archive.org/web/20070927191006/https://www.irobot.com/sp.cfm?pageid=149',\n",
              " 'https://web.archive.org/web/20070927215619/http://www.islandone.org/MMSG/9609lego.htm',\n",
              " 'https://web.archive.org/web/20071008135856/http://www.agvsystems.com/basics/vehicle.htm',\n",
              " 'https://web.archive.org/web/20071011044450/http://www.smartcaddy.net/',\n",
              " 'https://web.archive.org/web/20071011132926/http://crnano.org/Debate.htm',\n",
              " 'https://web.archive.org/web/20071016123948/http://news.bbc.co.uk/1/hi/uk/4012797.stm',\n",
              " 'https://web.archive.org/web/20071111025135/http://www.swarmrobot.org/',\n",
              " 'https://web.archive.org/web/20071121041811/http://www.e-health-insider.com/comment_and_analysis/250/robotic_future_of_patient_care',\n",
              " 'https://web.archive.org/web/20071213142513/http://www.reuters.com/article/technologyNews/idUST32811820071202',\n",
              " 'https://web.archive.org/web/20071225091836/http://home.swipnet.se/islam/articles/HistoryofSciences.htm#IX.%20Mechanical%20Engineering',\n",
              " 'https://web.archive.org/web/20080205041924/http://www.robots.com/blog.php?tag=48',\n",
              " 'https://web.archive.org/web/20080422132525/http://www.wired.com/wired/archive/13.11/bomb.html?pg=3&topic=bomb',\n",
              " 'https://web.archive.org/web/20080515015703/http://www.ri.cmu.edu/projects/project_163.html',\n",
              " 'https://web.archive.org/web/20080624013623/http://www-history.mcs.st-andrews.ac.uk/history/Biographies/Heron.html',\n",
              " 'https://web.archive.org/web/20080722022618/https://www.anu.edu.au/people/Roger.Clarke/SOS/Asimov.html',\n",
              " 'https://web.archive.org/web/20080803173021/http://www.assembleon.com/surface-mount-assembly/pick-and-place-equipment/a-series/',\n",
              " 'https://web.archive.org/web/20080803173353/http://www.aethon.com/can_do_tug.html',\n",
              " 'https://web.archive.org/web/20080911135038/http://www.macdorman.com/kfm/writings/pubs/Ho2007EmotionUncanny.pdf',\n",
              " 'https://web.archive.org/web/20080914050602/http://www.contactsystems.com/c5_series.html',\n",
              " 'https://web.archive.org/web/20080924162924/http://www.leonardo3.net/leonardo/books%20I%20robot%20di%20Leonardo%20-%20Taddei%20Mario%20-%20english%20Leonardo%20robots%201.html',\n",
              " 'https://web.archive.org/web/20080928061709/http://www.pbs.org/tesla',\n",
              " 'https://web.archive.org/web/20081009055230/http://www.ias.uwe.ac.uk/Robots/gwonline/gwonline.html',\n",
              " 'https://web.archive.org/web/20081011103322/http://www.physorg.com/news95078958.html',\n",
              " 'https://web.archive.org/web/20081013025115/http://www.livescience.com/technology/060526_robot_rules.html',\n",
              " 'https://web.archive.org/web/20090103103732/http://www.arts.cornell.edu/theatrearts/CTA/Program%20Notes/comic%20potential.asp',\n",
              " 'https://web.archive.org/web/20090124172123/http://bartleby.com/61/roots/IE363.html',\n",
              " 'https://web.archive.org/web/20090212091659/https://www.activrobots.com/RESEARCH/wheelchair.html',\n",
              " 'https://web.archive.org/web/20090215145547/http://news.bbc.co.uk/1/hi/technology/6425927.stm',\n",
              " 'https://web.archive.org/web/20090403093830/http://blog.wired.com/defense/2007/08/httpwwwnational.html',\n",
              " 'https://web.archive.org/web/20090412043558/http://blog.wired.com/defense/2007/08/armed-robots-so.html',\n",
              " 'https://web.archive.org/web/20090513032434/http://www.techcast.org/Upload/PDFs/050804104155TC.androids2.pdf',\n",
              " 'https://web.archive.org/web/20090522221123/http://www.cbc.ca/arts/books/story/2007/08/15/longpen-trial.html',\n",
              " 'https://web.archive.org/web/20090701131848/http://www.ccsrobotics.com/products/speciminder.html',\n",
              " 'https://web.archive.org/web/20090728101106/http://www.dailytech.com/New%20Navyfunded%20Report%20Warns%20of%20War%20Robots%20Going%20Terminator/article14298.htm',\n",
              " 'https://web.archive.org/web/20090729095144/http://www.wired.com/dangerroom/2009/07/company-denies-its-robots-feed-on-the-dead',\n",
              " 'https://web.archive.org/web/20090803135855/http://www.foxnews.com/story/0,2933,533382,00.html',\n",
              " 'https://web.archive.org/web/20090805111627/https://www.csun.edu/cod/conf/1999/proceedings/session0059.htm',\n",
              " 'https://web.archive.org/web/20090807005005/http://news.bbc.co.uk/2/hi/technology/8182003.stm',\n",
              " 'https://web.archive.org/web/20090823133634/http://www.robotictechnologyinc.com/images/upload/file/Cyclone%20Power%20Press%20Release%20EATR%20Rumors%20Final%2016%20July%2009.pdf',\n",
              " 'https://web.archive.org/web/20090823133720/http://www.robotictechnologyinc.com/images/upload/file/Presentation%20EATR%20Brief%20Overview%206%20April%2009.pdf',\n",
              " 'https://web.archive.org/web/20090828214741/http://research.microsoft.com/en-us/um/people/horvitz/AAAI_Presidential_Panel_2008-2009.htm',\n",
              " 'https://web.archive.org/web/20090918055715/http://www.ethiopianreview.com/articles/23156',\n",
              " 'https://web.archive.org/web/20091129103022/http://www.familyhealthguide.co.uk/scientists-predict-artificial-brain-in-10-years.html',\n",
              " 'https://web.archive.org/web/20100115065601/http://www.freetimes.com/stories/13/35/robot-dreams-the-strange-tale-of-a-mans-quest-to-rebuild-his-mechanical-childhood-friend',\n",
              " 'https://web.archive.org/web/20100127191004/http://www.slate.com/id/2218834/',\n",
              " 'https://web.archive.org/web/20100205083139/http://www.popularmechanics.com/technology/military_law/4252643.html?page=2',\n",
              " 'https://web.archive.org/web/20100218054027/http://www.ifr.org/service-robots/',\n",
              " 'https://web.archive.org/web/20100226101134/http://www.popsci.com/technology/article/2010-02/field-guide-flying-robots',\n",
              " 'https://web.archive.org/web/20100226202710/http://www.mobilerobots.com/AGV.html',\n",
              " 'https://web.archive.org/web/20100621142011/http://www.kurzweilai.net/meme/frame.html?main=/articles/art0220.html',\n",
              " 'https://web.archive.org/web/20100712191703/http://news.bbc.co.uk/1/hi/technology/10602105.stm',\n",
              " 'https://web.archive.org/web/20100715051514/http://news.sky.com/skynews/Home/UK-News/Taranis-MoD-And-BAE-Systems-Unveil-Futuristic-Unmanned-Fighter-Jet/Article/201007215663917?lpos=UK_News_Second_Home_Page_Article_Teaser_Region_0&lid=ARTICLE_15663917_Taranis:_MoD_And_BAE_Systems_Unveil_Futuristic_Unmanned_Fighter_Jet',\n",
              " 'https://web.archive.org/web/20101220114656/http://news.bbc.co.uk/cbbcnews/hi/find_out/guides/tech/robots/newsid_3914000/3914569.stm',\n",
              " 'https://web.archive.org/web/20110329123836/http://www.popsci.com/technology/article/2010-02/ping-pong-playing-terminator',\n",
              " 'https://web.archive.org/web/20110518152729/http://www.oxforddictionaries.com/view/entry/m_en_gb0714530#m_en_gb0714530',\n",
              " 'https://web.archive.org/web/20110604145633/http://www.engadget.com/2009/02/18/navy-report-warns-of-robot-uprising-suggests-a-strong-moral-com/',\n",
              " 'https://web.archive.org/web/20110607062457/http://www.fastcompany.com/magazine/131/the-caterpillar-self-driving-dump-truck.html?nav=inform-rl',\n",
              " 'https://web.archive.org/web/20110721092117/http://www.koreaittimes.com/story/4668/robots-almost-conquering-walking-reading-dancing',\n",
              " 'https://web.archive.org/web/20110805002115/http://www.aaai.org/AITopics/pmwiki/pmwiki.php/AITopics/Ethics',\n",
              " 'https://web.archive.org/web/20110926213115/http://www.robothalloffame.org/unimate.html',\n",
              " 'https://web.archive.org/web/20110927070744/http://www.meti.go.jp/english/press/data/20090325_01.html',\n",
              " 'https://web.archive.org/web/20111008201637/http://news.xinhuanet.com/english2010/china/2011-07/30/c_131018764.htm',\n",
              " 'https://web.archive.org/web/20111109053615/http://www.sme.org/cgi-bin/find-articles.pl?&ME06ART39&ME&20060709',\n",
              " 'https://web.archive.org/web/20111206082746/http://www.fennecfoxtech.com/',\n",
              " 'https://web.archive.org/web/20120204135259/http://capek.misto.cz/english/robot.html',\n",
              " 'https://web.archive.org/web/20120217174704/http://www.newstatesman.com/200606120018',\n",
              " 'https://web.archive.org/web/20120406094358/http://www.aaai.org/AITopics/newstopics/ethics5.html',\n",
              " 'https://web.archive.org/web/20120419163135/http://www.gyre.org/news/explore/robot-takeover',\n",
              " 'https://web.archive.org/web/20120511033937/http://www.gadgetrivia.com/8164-best_robot_international_robot_exhibition',\n",
              " 'https://web.archive.org/web/20120524150856/http://www.asimovlaws.com/articles/archives/2004/07/why_we_need_fri_1.html',\n",
              " 'https://web.archive.org/web/20120626210619/http://www.wired.com/science/discoveries/news/2000/12/40750',\n",
              " 'https://web.archive.org/web/20120705131305/http://www.ept.ca/issues/story.aspx?aid=1000348213',\n",
              " 'https://web.archive.org/web/20120716233605/http://www.asimovonline.com/asimov_FAQ.html',\n",
              " 'https://web.archive.org/web/20120723091926/http://ukinjapan.fco.gov.uk/resources/en/pdf/5606907/5633632/next-generation-services-robots',\n",
              " 'https://web.archive.org/web/20120831183945/http://www.thespacereview.com/article/2004/1',\n",
              " 'https://web.archive.org/web/20120919015947/http://www.nytimes.com/2012/09/18/science/a-robot-with-a-delicate-touch.html',\n",
              " 'https://web.archive.org/web/20121006225358/http://www.aerobuzz.fr/spip.php?article2346',\n",
              " 'https://web.archive.org/web/20121107102140/http://www.wired.com/dangerroom/2009/08/robot-three-way-portends-autonomous-future/',\n",
              " 'https://web.archive.org/web/20121224213437/http://www.ifr.org/uploads/media/History_of_Industrial_Robots_online_brochure_by_IFR_2012.pdf',\n",
              " 'https://web.archive.org/web/20130204034959/http://www.fujiyusoki.com/English/rekishi.htm',\n",
              " 'https://web.archive.org/web/20130403180057/https://www.techbirbal.com/viewtopic.php?p=3687&sid=7faaeeb64eaf84880b23755fea7fa7cd',\n",
              " 'https://web.archive.org/web/20130424100842/https://www.riotinto.com/media/5157_21165.asp',\n",
              " 'https://web.archive.org/web/20130424145057/http://excelle.monster.com/benefits/articles/4983-5-jobs-being-replaced-by-robots?page=1',\n",
              " 'https://web.archive.org/web/20130425130611/http://www.roboticsdesign.qc.ca/assets/Uploads/PDF-content/InThePress/HVAC/Pluming+HVACmagazineapril2010.pdf',\n",
              " 'https://web.archive.org/web/20130518134056/http://www.controleng.com/single-article/universal-robots-collaborate-outside-enclosures/83cc537080cf25e043eb9b770fd1d62f.html',\n",
              " 'https://web.archive.org/web/20130523015511/http://www.jervisbwebb.com/Products/automatic_trailer_loading.aspx?pid=190&qs=1_3_',\n",
              " 'https://web.archive.org/web/20130610012645/http://www.kuka-robotics.com/germany/en/company/group/milestones/1973.htm',\n",
              " 'https://web.archive.org/web/20130906015841/http://www.stat.go.jp/english/data/handbook/c02cont.htm',\n",
              " 'https://web.archive.org/web/20131022173838/http://www.huffingtonpost.com/2012/03/06/four-legged-robot-sets-new-speed-record_n_1324701.html',\n",
              " 'https://web.archive.org/web/20131111132524/http://www.reffell.org.uk/people/ericrobot.php',\n",
              " 'https://web.archive.org/web/20131214120523/http://www.etymonline.com/index.php?allowed_in_frame=0&search=robot&searchmode=or',\n",
              " 'https://web.archive.org/web/20131218162920/http://adrianboeing.blogspot.com/2011/06/aimex.html',\n",
              " 'https://web.archive.org/web/20131229011744/http://www.springer.com/engineering/robotics/book/978-94-007-0578-4',\n",
              " 'https://web.archive.org/web/20140109062457/http://emrotechnologies.com/',\n",
              " 'https://web.archive.org/web/20140125105842/http://rocklogic.com.au/',\n",
              " 'https://web.archive.org/web/20140207175830/http://www.atlascopco.com/rcs/',\n",
              " 'https://web.archive.org/web/20140529095011/http://www.abc.net.au/news/2014-05-28/robots-could-cost-australian-economy-5-million-jobs-expert-says/5484740',\n",
              " 'https://web.archive.org/web/20140906190853/http://e-drexler.com/d/06/00/EOC/EOC_Chapter_11.html',\n",
              " 'https://web.archive.org/web/20141104234729/http://invent.org/inductee-detail/?IID=426',\n",
              " 'https://web.archive.org/web/20150403233312/http://www.nytimes.com/2007/03/27/science/27robo.html?pagewanted=1&_r=1&ei=5070&en=91395fe7439a5b72&ex=1177128000',\n",
              " 'https://web.archive.org/web/20150403233901/https://futureofworkhub.squarespace.com/allcontent/2014/11/20/judgment-day-employment-law-and-robots-in-the-workplace',\n",
              " 'https://web.archive.org/web/20150410052711/http://www.wsj.com/articles/SB10000872396390443720204578004441732584574',\n",
              " 'https://web.archive.org/web/20150708105337/https://www.robots.com/education/industrial-history',\n",
              " 'https://web.archive.org/web/20150922181442/https://news.google.com/newspapers?id=W4diAAAAIBAJ&sjid=s3cNAAAAIBAJ&pg=1326,3744066&dq=logo+turtle+robot&hl=en',\n",
              " 'https://web.archive.org/web/20150924120946/http://www.csmonitor.com/Technology/Tech/2010/0217/New-role-for-robot-warriors',\n",
              " 'https://web.archive.org/web/20151007014124/http://blog.codexify.com/2015/10/robohon-cute-little-robot-cum-smartphone.html',\n",
              " 'https://web.archive.org/web/20160212040134/http://www.plugandpray-film.de/en/content.html',\n",
              " 'https://web.archive.org/web/20160426221302/http://www.theage.com.au/it-pro/business-it/forget-selfdriving-google-cars-australia-has-selfdriving-trucks-20141020-118o47.html',\n",
              " 'https://web.archive.org/web/20160509125519/http://www.businessinsider.com/rio-tinto-using-self-driving-trucks-to-transport-ore-2015-10?r=UK&IR=T',\n",
              " 'https://web.archive.org/web/20160509210931/http://asia.nikkei.com/Business/Trends/Self-driving-dump-trucks-automatic-shovels-coming-to-Australian-mines',\n",
              " 'https://web.archive.org/web/20160513040542/http://www.equipmentworld.com/video-why-caterpillars-autonomous-mining-tech-is-completely-different-from-anything-its-ever-done/',\n",
              " 'https://web.archive.org/web/20160610202319/http://www.engineering.com/AdvancedManufacturing/ArticleID/12169',\n",
              " 'https://web.archive.org/web/20160722235005/http://www.bloomberg.com/news/articles/2014-12-09/self-driving-trucks-to-revolutionize-logistics-dhl-says',\n",
              " 'https://web.archive.org/web/20160822040424/http://www.itnews.com.au/news/bhp-billiton-hits-go-on-autonomous-drills-421008',\n",
              " 'https://web.archive.org/web/20160825193650/https://ebooks.adelaide.edu.au/c/capek/karel/rur/',\n",
              " 'https://web.archive.org/web/20161204234831/https://books.google.com/books?id=stIWUpWvI94C',\n",
              " 'https://web.archive.org/web/20161205023226/https://books.google.com/books?id=DzMR8x_rbPgC&printsec=frontcover&dq=tesla+torpedo+controlled+wireless+conduction&hl=en&sa=X&ei=-669Uv3NO46-sQSysYGgDQ&ved=0CEIQ6AEwAjgK#v=onepage&q=torpedo&f=false',\n",
              " 'https://web.archive.org/web/20161205023302/https://books.google.com/books?id=EWbMiyS9v98C',\n",
              " 'https://web.archive.org/web/20161205062218/https://books.google.com/books?id=h5tKJvApybsC&pg=PA114&lpg=PA114&dq=hephaestus+handmaidens',\n",
              " 'https://web.archive.org/web/20161205073358/https://books.google.com/books?id=fduW6KHhWtQC&dq=robot&printsec=frontcover&source=bl&ots=SuquyjYb4n&sig=5S3L8pqiLqZ_yjJgh97tPE6F7gQ&hl=en&ei=R1-MSubxLs_dlAfJm_26CA&sa=X&oi=book_result&ct=result&resnum=6#v=onepage&q=&f=false',\n",
              " 'https://web.archive.org/web/20161220154456/https://www.theguardian.com/books/2002/feb/16/extract.gabywood',\n",
              " 'https://web.archive.org/web/20161225221153/http://www.nytimes.com/2011/08/16/business/george-devol-developer-of-robot-arm-dies-at-99.html',\n",
              " 'https://web.archive.org/web/20170127121914/http://www.techrepublic.com/article/robots-of-death-robots-of-love-the-reality-of-android-soldiers-and-why-laws-for-robots-are-doomed-to-failure/',\n",
              " 'https://web.archive.org/web/20170201165939/http://mars.jpl.nasa.gov/MPF/rover/sojourner.html',\n",
              " 'https://web.archive.org/web/20170215151324/https://www.nytimes.com/2016/03/09/business/economy/a-future-without-jobs-two-views-of-the-changing-work-force.html',\n",
              " 'https://web.archive.org/web/20170227122425/https://www.theatlantic.com/magazine/archive/2015/07/world-without-work/395294/',\n",
              " 'https://web.archive.org/web/20170304131234/https://www.wsj.com/articles/SB10001424127887324144304578624221804774116',\n",
              " 'https://web.archive.org/web/20170305042737/https://qz.com/911968/bill-gates-the-robot-that-takes-your-job-should-pay-taxes/',\n",
              " 'https://web.archive.org/web/20170307044859/https://www.merriam-webster.com/dictionary/robot',\n",
              " 'https://web.archive.org/web/20170307205535/http://cyberneticzoo.com/robots/1932-%E2%80%93-george-robot-%E2%80%93-capt-w-h-richards-british/',\n",
              " 'https://web.archive.org/web/20170419100926/http://www.driverless-future.com/?page_id=384',\n",
              " 'https://web.archive.org/web/20170701084625/http://www.nytimes.com/2009/07/26/science/26robot.html?_r=1&ref=todayspaper',\n",
              " 'https://web.archive.org/web/20170911115134/https://czechfriends.net/images/RobotsMargoliusJul2017.pdf',\n",
              " 'https://web.archive.org/web/20180417022654/https://www.npr.org/2011/04/22/135634400/science-diction-the-origin-of-the-word-robot',\n",
              " 'https://web.archive.org/web/20180504222624/https://www.engadget.com/tag/robotapocalypse/',\n",
              " 'https://web.archive.org/web/20180524201340/https://papers.ssrn.com/sol3/papers.cfm?abstract_id=3044448',\n",
              " 'https://web.archive.org/web/20180630212424/https://www.bbc.com/news/technology-34118482',\n",
              " 'https://web.archive.org/web/20180930193143/http://www.worldbank.org/en/publication/wdr2019',\n",
              " 'https://web.archive.org/web/20190114133009/https://www.bbc.com/news/business-20800118',\n",
              " 'https://web.archive.org/web/20190517175356/https://store.hp.com/us/en/cv/taw-article?ai=199&ap=46&au=The_softer_side_of_robotics&am=May&ay=2019#false',\n",
              " 'https://web.archive.org/web/20190524113018/http://content.time.com/time/magazine/article/0,9171,904056,00.html',\n",
              " 'https://web.archive.org/web/20190528193904/http://cyberneticzoo.com/tag/leachim/',\n",
              " 'https://web.archive.org/web/20190814133056/https://www.grandpalais.fr/en/event/artists-robots',\n",
              " 'https://curlie.org/Computers/Robotics',\n",
              " 'https://ghostarchive.org/varchive/youtube/20211211/v2HcjanNWFM',\n",
              " 'https://ieeexplore.ieee.org/document/9077791',\n",
              " 'https://www.npr.org/2011/04/22/135634400/science-diction-the-origin-of-the-word-robot',\n",
              " 'https://www.pbs.org/tesla',\n",
              " 'https://phys.org/news/2020-07-robot-scientist-catalyst.html',\n",
              " 'https://semanticscholar.org/paper/2d41ca7e86d59ff5cb9c2138e2a87461d36bb4f0',\n",
              " 'https://api.semanticscholar.org/CorpusID:18608163',\n",
              " 'https://api.semanticscholar.org/CorpusID:190524140',\n",
              " 'https://api.semanticscholar.org/CorpusID:1962455',\n",
              " 'https://api.semanticscholar.org/CorpusID:216588335',\n",
              " 'https://api.semanticscholar.org/CorpusID:220420261',\n",
              " 'https://api.semanticscholar.org/CorpusID:36232530',\n",
              " 'https://api.semanticscholar.org/CorpusID:8659998',\n",
              " 'https://www.wikidata.org/wiki/Q11012#identifiers']"
            ]
          },
          "metadata": {},
          "execution_count": 10
        }
      ]
    },
    {
      "cell_type": "code",
      "source": [
        "full_page.url"
      ],
      "metadata": {
        "colab": {
          "base_uri": "https://localhost:8080/",
          "height": 35
        },
        "id": "zkPMrtStLnz9",
        "outputId": "7fa45055-f6e6-4b01-bc0c-42ff30f59792"
      },
      "execution_count": 11,
      "outputs": [
        {
          "output_type": "execute_result",
          "data": {
            "text/plain": [
              "'https://en.wikipedia.org/wiki/Robot'"
            ],
            "application/vnd.google.colaboratory.intrinsic+json": {
              "type": "string"
            }
          },
          "metadata": {},
          "execution_count": 11
        }
      ]
    },
    {
      "cell_type": "code",
      "source": [
        "full_page.title"
      ],
      "metadata": {
        "colab": {
          "base_uri": "https://localhost:8080/",
          "height": 35
        },
        "id": "zb2DIy2ILs9v",
        "outputId": "002e5629-80ad-4c63-fc69-f6286ee3c515"
      },
      "execution_count": 12,
      "outputs": [
        {
          "output_type": "execute_result",
          "data": {
            "text/plain": [
              "'Robot'"
            ],
            "application/vnd.google.colaboratory.intrinsic+json": {
              "type": "string"
            }
          },
          "metadata": {},
          "execution_count": 12
        }
      ]
    },
    {
      "cell_type": "code",
      "source": [
        "full_page.images"
      ],
      "metadata": {
        "colab": {
          "base_uri": "https://localhost:8080/"
        },
        "id": "vHw1RWsXLv8F",
        "outputId": "41f91402-0a2f-43db-c2eb-895fe9542a31"
      },
      "execution_count": 13,
      "outputs": [
        {
          "output_type": "execute_result",
          "data": {
            "text/plain": [
              "['https://upload.wikimedia.org/wikipedia/commons/7/72/ADAM_Intelligent_AGV.jpg',\n",
              " 'https://upload.wikimedia.org/wikipedia/commons/1/16/Actroid-DER_01.jpg',\n",
              " 'https://upload.wikimedia.org/wikipedia/commons/c/ce/Al-Jazari_-_A_Musical_Toy.jpg',\n",
              " 'https://upload.wikimedia.org/wikipedia/commons/9/98/Ambox_current_red.svg',\n",
              " 'https://upload.wikimedia.org/wikipedia/commons/8/8a/Automation_of_foundry_with_robot.jpg',\n",
              " 'https://upload.wikimedia.org/wikipedia/commons/2/20/Bio-inspired_Big_Dog_quadruped_robot_is_being_developed_as_a_mule_that_can_traverse_difficult_terrain.tiff',\n",
              " 'https://upload.wikimedia.org/wikipedia/commons/3/33/Brennan_torpedo_launching.jpg',\n",
              " 'https://upload.wikimedia.org/wikipedia/commons/3/37/Bulletin_-_United_States_National_Museum_%281959%29_%2820481431946%29.jpg',\n",
              " 'https://upload.wikimedia.org/wikipedia/commons/a/a7/Bundesarchiv_Bild_102-13018%2C_Maschinenmensch_%22Robot%22.jpg',\n",
              " 'https://upload.wikimedia.org/wikipedia/commons/8/87/Capek_play.jpg',\n",
              " 'https://upload.wikimedia.org/wikipedia/commons/9/9b/FANUC_6-axis_welding_robots.jpg',\n",
              " 'https://upload.wikimedia.org/wikipedia/commons/c/cf/FRIEND-III_klein.png',\n",
              " 'https://upload.wikimedia.org/wikipedia/commons/4/41/Global_thinking.svg',\n",
              " 'https://upload.wikimedia.org/wikipedia/commons/0/05/HONDA_ASIMO.jpg',\n",
              " 'https://upload.wikimedia.org/wikipedia/commons/4/4c/ICub_sciencefestival_1.jpg',\n",
              " 'https://upload.wikimedia.org/wikipedia/commons/a/a5/IED_detonator.jpg',\n",
              " 'https://upload.wikimedia.org/wikipedia/commons/7/77/KITT_en_Calle_Larios.jpg',\n",
              " 'https://upload.wikimedia.org/wikipedia/commons/3/3c/L%27uomo_meccanico_1.png',\n",
              " 'https://upload.wikimedia.org/wikipedia/commons/0/0d/Laproscopic_Surgery_Robot.jpg',\n",
              " 'https://upload.wikimedia.org/wikipedia/commons/4/45/Leonardo-Robot3.jpg',\n",
              " 'https://upload.wikimedia.org/wikipedia/commons/1/1b/Nuvola_apps_kaboodle.svg',\n",
              " 'https://upload.wikimedia.org/wikipedia/commons/d/df/RobotsMODO.jpg',\n",
              " 'https://upload.wikimedia.org/wikipedia/commons/f/f5/Roomba_original.jpg',\n",
              " 'https://upload.wikimedia.org/wikipedia/commons/c/c5/Shadow_Hand_Bulb_large.jpg',\n",
              " 'https://upload.wikimedia.org/wikipedia/commons/3/3a/SmUsingGuiaBot.jpg',\n",
              " 'https://upload.wikimedia.org/wikipedia/commons/9/92/TOPIO_3.jpg',\n",
              " 'https://upload.wikimedia.org/wikipedia/commons/e/e3/Unnecessarily_complicated_gears_a.gif',\n",
              " 'https://upload.wikimedia.org/wikipedia/commons/f/fa/Wikibooks-logo.svg',\n",
              " 'https://upload.wikimedia.org/wikipedia/commons/f/fa/Wikiquote-logo.svg',\n",
              " 'https://upload.wikimedia.org/wikipedia/commons/0/0b/Wikiversity_logo_2017.svg',\n",
              " 'https://upload.wikimedia.org/wikipedia/en/4/4a/Commons-logo.svg',\n",
              " 'https://upload.wikimedia.org/wikipedia/en/8/8a/OOjs_UI_icon_edit-ltr-progressive.svg',\n",
              " 'https://upload.wikimedia.org/wikipedia/en/8/8a/Original_Robot_Patent.jpg',\n",
              " 'https://upload.wikimedia.org/wikipedia/en/9/99/Question_book-new.svg',\n",
              " 'https://upload.wikimedia.org/wikipedia/en/1/1b/Semi-protection-shackle.svg',\n",
              " 'https://upload.wikimedia.org/wikipedia/en/9/96/Symbol_category_class.svg',\n",
              " 'https://upload.wikimedia.org/wikipedia/en/e/e2/Symbol_portal_class.svg',\n",
              " 'https://upload.wikimedia.org/wikipedia/en/0/06/Wiktionary-logo-v2.svg']"
            ]
          },
          "metadata": {},
          "execution_count": 13
        }
      ]
    },
    {
      "cell_type": "code",
      "source": [
        "html=wk.page(\"Robots\").html().encode(\"UTF-8\")   #extract html code of wikipedia page based on any search text"
      ],
      "metadata": {
        "id": "qud85hbQMAE9"
      },
      "execution_count": 21,
      "outputs": []
    },
    {
      "cell_type": "code",
      "source": [
        "import pandas as pd\n",
        "df=pd.read_html(html)\n",
        "df1=pd.read_html(html)[9]\n"
      ],
      "metadata": {
        "id": "uFF8a29uMPmH"
      },
      "execution_count": 27,
      "outputs": []
    },
    {
      "cell_type": "code",
      "source": [
        "print(df1)"
      ],
      "metadata": {
        "colab": {
          "base_uri": "https://localhost:8080/"
        },
        "id": "zBt4LjeMMpIY",
        "outputId": "46a832bd-de81-46c6-e99e-48ab0afa6f80"
      },
      "execution_count": 28,
      "outputs": [
        {
          "output_type": "stream",
          "name": "stdout",
          "text": [
            "            0                                                  1\n",
            "0  Literature   Comics Magazines Novels Publishers Short stories\n",
            "1       Stage                                      Opera Theatre\n",
            "2        Film  Film history Films India Japanese Anime Tokusatsu\n",
            "3  Television  List of TV shows Australasian British Canadian...\n"
          ]
        }
      ]
    },
    {
      "cell_type": "code",
      "source": [
        "print(df)"
      ],
      "metadata": {
        "colab": {
          "base_uri": "https://localhost:8080/"
        },
        "id": "QqEhPxfzMW0-",
        "outputId": "e62a326b-8430-42d5-c3eb-00ef1be45ed8"
      },
      "execution_count": 16,
      "outputs": [
        {
          "output_type": "stream",
          "name": "stdout",
          "text": [
            "[               External video            External video.1\n",
            "0  Atlas, The Next Generation  Atlas, The Next Generation,     0                                                  1\n",
            "0 NaN  This section needs to be updated. Please help ...,     0                                                  1\n",
            "0 NaN  This section needs additional citations for ve...,   .mw-parser-output .navbar{display:inline;font-size:88%;font-weight:normal}.mw-parser-output .navbar-collapse{float:left;text-align:left}.mw-parser-output .navbar-boxtext{word-spacing:0}.mw-parser-output .navbar ul{display:inline-block;white-space:nowrap;line-height:inherit}.mw-parser-output .navbar-brackets::before{margin-right:-0.125em;content:\"[ \"}.mw-parser-output .navbar-brackets::after{margin-left:-0.125em;content:\" ]\"}.mw-parser-output .navbar li{word-spacing:-0.125em}.mw-parser-output .navbar a>span,.mw-parser-output .navbar a>abbr{text-decoration:inherit}.mw-parser-output .navbar-mini abbr{font-variant:small-caps;border-bottom:none;text-decoration:none;cursor:inherit}.mw-parser-output .navbar-ct-full{font-size:114%;margin:0 7em}.mw-parser-output .navbar-ct-mini{font-size:114%;margin:0 4em}vteRobotics  \\\n",
            "0                                      Main articles                                                                                                                                                                                                                                                                                                                                                                                                                                                                                                                                                                                                                                                                                                                                                                                                    \n",
            "1                                              Types                                                                                                                                                                                                                                                                                                                                                                                                                                                                                                                                                                                                                                                                                                                                                                                                    \n",
            "2                                    Classifications                                                                                                                                                                                                                                                                                                                                                                                                                                                                                                                                                                                                                                                                                                                                                                                                    \n",
            "3                                         Locomotion                                                                                                                                                                                                                                                                                                                                                                                                                                                                                                                                                                                                                                                                                                                                                                                                    \n",
            "4                                           Research                                                                                                                                                                                                                                                                                                                                                                                                                                                                                                                                                                                                                                                                                                                                                                                                    \n",
            "5                                            Related                                                                                                                                                                                                                                                                                                                                                                                                                                                                                                                                                                                                                                                                                                                                                                                                    \n",
            "6                                  Category  Outline                                                                                                                                                                                                                                                                                                                                                                                                                                                                                                                                                                                                                                                                                                                                                                                                    \n",
            "\n",
            "  .mw-parser-output .navbar{display:inline;font-size:88%;font-weight:normal}.mw-parser-output .navbar-collapse{float:left;text-align:left}.mw-parser-output .navbar-boxtext{word-spacing:0}.mw-parser-output .navbar ul{display:inline-block;white-space:nowrap;line-height:inherit}.mw-parser-output .navbar-brackets::before{margin-right:-0.125em;content:\"[ \"}.mw-parser-output .navbar-brackets::after{margin-left:-0.125em;content:\" ]\"}.mw-parser-output .navbar li{word-spacing:-0.125em}.mw-parser-output .navbar a>span,.mw-parser-output .navbar a>abbr{text-decoration:inherit}.mw-parser-output .navbar-mini abbr{font-variant:small-caps;border-bottom:none;text-decoration:none;cursor:inherit}.mw-parser-output .navbar-ct-full{font-size:114%;margin:0 7em}.mw-parser-output .navbar-ct-mini{font-size:114%;margin:0 4em}vteRobotics.1  \\\n",
            "0  Outline Glossary Index History Geography Hall ...                                                                                                                                                                                                                                                                                                                                                                                                                                                                                                                                                                                                                                                                                                                                                                                                      \n",
            "1  Aerobot Anthropomorphic Humanoid Android Cybor...                                                                                                                                                                                                                                                                                                                                                                                                                                                                                                                                                                                                                                                                                                                                                                                                      \n",
            "2  Biorobotics Unmanned vehicle aerial ground Mob...                                                                                                                                                                                                                                                                                                                                                                                                                                                                                                                                                                                                                                                                                                                                                                                                      \n",
            "3  Tracks Walking Hexapod Climbing Electric unicy...                                                                                                                                                                                                                                                                                                                                                                                                                                                                                                                                                                                                                                                                                                                                                                                                      \n",
            "4  Evolutionary Kits Simulator Suite Open-source ...                                                                                                                                                                                                                                                                                                                                                                                                                                                                                                                                                                                                                                                                                                                                                                                                      \n",
            "5  Critique of work Powered exoskeleton Technolog...                                                                                                                                                                                                                                                                                                                                                                                                                                                                                                                                                                                                                                                                                                                                                                                                      \n",
            "6                                  Category  Outline                                                                                                                                                                                                                                                                                                                                                                                                                                                                                                                                                                                                                                                                                                                                                                                                      \n",
            "\n",
            "  .mw-parser-output .navbar{display:inline;font-size:88%;font-weight:normal}.mw-parser-output .navbar-collapse{float:left;text-align:left}.mw-parser-output .navbar-boxtext{word-spacing:0}.mw-parser-output .navbar ul{display:inline-block;white-space:nowrap;line-height:inherit}.mw-parser-output .navbar-brackets::before{margin-right:-0.125em;content:\"[ \"}.mw-parser-output .navbar-brackets::after{margin-left:-0.125em;content:\" ]\"}.mw-parser-output .navbar li{word-spacing:-0.125em}.mw-parser-output .navbar a>span,.mw-parser-output .navbar a>abbr{text-decoration:inherit}.mw-parser-output .navbar-mini abbr{font-variant:small-caps;border-bottom:none;text-decoration:none;cursor:inherit}.mw-parser-output .navbar-ct-full{font-size:114%;margin:0 7em}.mw-parser-output .navbar-ct-mini{font-size:114%;margin:0 4em}vteRobotics.2  \n",
            "0                                                NaN                                                                                                                                                                                                                                                                                                                                                                                                                                                                                                                                                                                                                                                                                                                                                                                                     \n",
            "1                                                NaN                                                                                                                                                                                                                                                                                                                                                                                                                                                                                                                                                                                                                                                                                                                                                                                                     \n",
            "2                                                NaN                                                                                                                                                                                                                                                                                                                                                                                                                                                                                                                                                                                                                                                                                                                                                                                                     \n",
            "3                                                NaN                                                                                                                                                                                                                                                                                                                                                                                                                                                                                                                                                                                                                                                                                                                                                                                                     \n",
            "4                                                NaN                                                                                                                                                                                                                                                                                                                                                                                                                                                                                                                                                                                                                                                                                                                                                                                                     \n",
            "5                                                NaN                                                                                                                                                                                                                                                                                                                                                                                                                                                                                                                                                                                                                                                                                                                                                                                                     \n",
            "6                                  Category  Outline                                                                                                                                                                                                                                                                                                                                                                                                                                                                                                                                                                                                                                                                                                                                                                                                     ,                     vteMachines  \\\n",
            "0     Classical simple machines   \n",
            "1                        Clocks   \n",
            "2         Compressors and pumps   \n",
            "3   External combustion engines   \n",
            "4   Internal combustion engines   \n",
            "5                      Linkages   \n",
            "6                       Turbine   \n",
            "7                      Aerofoil   \n",
            "8                   Electronics   \n",
            "9                      Vehicles   \n",
            "10                Miscellaneous   \n",
            "\n",
            "                                        vteMachines.1  vteMachines.2  \n",
            "0   Inclined plane Lever Pulley Screw Wedge Wheel ...            NaN  \n",
            "1   Atomic clock Chronometer Pendulum clock Quartz...            NaN  \n",
            "2   Archimedes' screw Eductor-jet pump Hydraulic r...            NaN  \n",
            "3                        Steam engine Stirling engine            NaN  \n",
            "4   Gas turbine Reciprocating engine Rotary engine...            NaN  \n",
            "5                       Pantograph Peaucellier-Lipkin            NaN  \n",
            "6   Gas turbine Jet engine Quasiturbine Steam turb...            NaN  \n",
            "7                     Sail Wing Rudder Flap Propeller            NaN  \n",
            "8   Vacuum tube Transistor Diode Resistor Capacito...            NaN  \n",
            "9                                          Automobile            NaN  \n",
            "10  Mecha Robot Agricultural Seed-counting machine...            NaN  ,                                    vteScience fiction  \\\n",
            "0                                             Outline   \n",
            "1                                           Subgenres   \n",
            "2   Comedy Sitcoms Mecha Anime and manga Mundane S...   \n",
            "3                               Cyberpunk derivatives   \n",
            "4                                             Culture   \n",
            "5   Conventions Fandom Fanzines Libraries and muse...   \n",
            "6                                              Region   \n",
            "7                                              Awards   \n",
            "8                                          Multimedia   \n",
            "9                                           Cinematic   \n",
            "10                            Literary, art,and audio   \n",
            "11                                              Media   \n",
            "12                                         Literature   \n",
            "13                                              Stage   \n",
            "14                                               Film   \n",
            "15                                         Television   \n",
            "16                                             Themes   \n",
            "17                                      Technological   \n",
            "18                                      Architectural   \n",
            "19                                         Biological   \n",
            "20                                           Physical   \n",
            "21                                             Social   \n",
            "22                                            Related   \n",
            "23                                    Category Portal   \n",
            "\n",
            "                                 vteScience fiction.1  \n",
            "0   Authors Definitions Anthropological Hard Scien...  \n",
            "1   Comedy Sitcoms Mecha Anime and manga Mundane S...  \n",
            "2   Comedy Sitcoms Mecha Anime and manga Mundane S...  \n",
            "3   Cyberpunk Japanese Biopunk Dieselpunk Nanopunk...  \n",
            "4   Conventions Fandom Fanzines Libraries and muse...  \n",
            "5   Conventions Fandom Fanzines Libraries and muse...  \n",
            "6   Australian Bengali Brazilian Canadian Chilean ...  \n",
            "7   Multimedia Aurora Chandler Dragon Hugo Seiun S...  \n",
            "8          Aurora Chandler Dragon Hugo Seiun Spectrum  \n",
            "9                                  Jules Verne Saturn  \n",
            "10  Astounding Aurealis BSFA Campbell Memorial Che...  \n",
            "11  Literature Comics Magazines Novels Publishers ...  \n",
            "12   Comics Magazines Novels Publishers Short stories  \n",
            "13                                      Opera Theatre  \n",
            "14  Film history Films India Japanese Anime Tokusatsu  \n",
            "15  List of TV shows Australasian British Canadian...  \n",
            "16  Technological Artificial intelligence AI takeo...  \n",
            "17  Artificial intelligence AI takeover Astroengin...  \n",
            "18  Colonization Dyson sphere Matrioshka brain Spa...  \n",
            "19  Biological warfare Energy being Evolution Extr...  \n",
            "20  Ansible Black holes Boom tube Force field Hype...  \n",
            "21  Africanfuturism Afrofuturism Alien invasion Al...  \n",
            "22  Alternate history Fantasy Fictional astronauts...  \n",
            "23                                    Category Portal  ,                                                    0  \\\n",
            "0  Comedy Sitcoms Mecha Anime and manga Mundane S...   \n",
            "1                              Cyberpunk derivatives   \n",
            "\n",
            "                                                   1  \n",
            "0  Comedy Sitcoms Mecha Anime and manga Mundane S...  \n",
            "1  Cyberpunk Japanese Biopunk Dieselpunk Nanopunk...  ,                                                    0  \\\n",
            "0  Conventions Fandom Fanzines Libraries and muse...   \n",
            "1                                             Region   \n",
            "2                                             Awards   \n",
            "3                                         Multimedia   \n",
            "4                                          Cinematic   \n",
            "5                            Literary, art,and audio   \n",
            "\n",
            "                                                   1  \n",
            "0  Conventions Fandom Fanzines Libraries and muse...  \n",
            "1  Australian Bengali Brazilian Canadian Chilean ...  \n",
            "2  Multimedia Aurora Chandler Dragon Hugo Seiun S...  \n",
            "3         Aurora Chandler Dragon Hugo Seiun Spectrum  \n",
            "4                                 Jules Verne Saturn  \n",
            "5  Astounding Aurealis BSFA Campbell Memorial Che...  ,                          0                                                  1\n",
            "0               Multimedia         Aurora Chandler Dragon Hugo Seiun Spectrum\n",
            "1                Cinematic                                 Jules Verne Saturn\n",
            "2  Literary, art,and audio  Astounding Aurealis BSFA Campbell Memorial Che...,             0                                                  1\n",
            "0  Literature   Comics Magazines Novels Publishers Short stories\n",
            "1       Stage                                      Opera Theatre\n",
            "2        Film  Film history Films India Japanese Anime Tokusatsu\n",
            "3  Television  List of TV shows Australasian British Canadian...,                0                                                  1\n",
            "0  Technological  Artificial intelligence AI takeover Astroengin...\n",
            "1  Architectural  Colonization Dyson sphere Matrioshka brain Spa...\n",
            "2     Biological  Biological warfare Energy being Evolution Extr...\n",
            "3       Physical  Ansible Black holes Boom tube Force field Hype...\n",
            "4         Social  Africanfuturism Afrofuturism Alien invasion Al...,                                        0  \\\n",
            "0  Authority control: National libraries   \n",
            "\n",
            "                                                   1  \n",
            "0  France (data) Germany Israel 2 United States 2...  ]\n"
          ]
        }
      ]
    }
  ]
}